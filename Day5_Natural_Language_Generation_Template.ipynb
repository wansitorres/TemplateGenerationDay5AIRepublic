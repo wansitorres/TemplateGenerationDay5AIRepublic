{
  "cells": [
    {
      "cell_type": "code",
      "source": [
        "!pip install openai==0.28.1\n",
        "!pip install fpdf==1.7.2"
      ],
      "metadata": {
        "id": "lataKYH3l-T1",
        "colab": {
          "base_uri": "https://localhost:8080/"
        },
        "outputId": "5e9e6661-53cb-48e0-c713-cb5ea64c895f"
      },
      "id": "lataKYH3l-T1",
      "execution_count": 1,
      "outputs": [
        {
          "output_type": "stream",
          "name": "stdout",
          "text": [
            "Collecting openai==0.28.1\n",
            "  Downloading openai-0.28.1-py3-none-any.whl.metadata (11 kB)\n",
            "Requirement already satisfied: requests>=2.20 in /usr/local/lib/python3.10/dist-packages (from openai==0.28.1) (2.32.3)\n",
            "Requirement already satisfied: tqdm in /usr/local/lib/python3.10/dist-packages (from openai==0.28.1) (4.66.6)\n",
            "Requirement already satisfied: aiohttp in /usr/local/lib/python3.10/dist-packages (from openai==0.28.1) (3.10.10)\n",
            "Requirement already satisfied: charset-normalizer<4,>=2 in /usr/local/lib/python3.10/dist-packages (from requests>=2.20->openai==0.28.1) (3.4.0)\n",
            "Requirement already satisfied: idna<4,>=2.5 in /usr/local/lib/python3.10/dist-packages (from requests>=2.20->openai==0.28.1) (3.10)\n",
            "Requirement already satisfied: urllib3<3,>=1.21.1 in /usr/local/lib/python3.10/dist-packages (from requests>=2.20->openai==0.28.1) (2.2.3)\n",
            "Requirement already satisfied: certifi>=2017.4.17 in /usr/local/lib/python3.10/dist-packages (from requests>=2.20->openai==0.28.1) (2024.8.30)\n",
            "Requirement already satisfied: aiohappyeyeballs>=2.3.0 in /usr/local/lib/python3.10/dist-packages (from aiohttp->openai==0.28.1) (2.4.3)\n",
            "Requirement already satisfied: aiosignal>=1.1.2 in /usr/local/lib/python3.10/dist-packages (from aiohttp->openai==0.28.1) (1.3.1)\n",
            "Requirement already satisfied: attrs>=17.3.0 in /usr/local/lib/python3.10/dist-packages (from aiohttp->openai==0.28.1) (24.2.0)\n",
            "Requirement already satisfied: frozenlist>=1.1.1 in /usr/local/lib/python3.10/dist-packages (from aiohttp->openai==0.28.1) (1.5.0)\n",
            "Requirement already satisfied: multidict<7.0,>=4.5 in /usr/local/lib/python3.10/dist-packages (from aiohttp->openai==0.28.1) (6.1.0)\n",
            "Requirement already satisfied: yarl<2.0,>=1.12.0 in /usr/local/lib/python3.10/dist-packages (from aiohttp->openai==0.28.1) (1.17.1)\n",
            "Requirement already satisfied: async-timeout<5.0,>=4.0 in /usr/local/lib/python3.10/dist-packages (from aiohttp->openai==0.28.1) (4.0.3)\n",
            "Requirement already satisfied: typing-extensions>=4.1.0 in /usr/local/lib/python3.10/dist-packages (from multidict<7.0,>=4.5->aiohttp->openai==0.28.1) (4.12.2)\n",
            "Requirement already satisfied: propcache>=0.2.0 in /usr/local/lib/python3.10/dist-packages (from yarl<2.0,>=1.12.0->aiohttp->openai==0.28.1) (0.2.0)\n",
            "Downloading openai-0.28.1-py3-none-any.whl (76 kB)\n",
            "\u001b[2K   \u001b[90m━━━━━━━━━━━━━━━━━━━━━━━━━━━━━━━━━━━━━━━━\u001b[0m \u001b[32m77.0/77.0 kB\u001b[0m \u001b[31m3.9 MB/s\u001b[0m eta \u001b[36m0:00:00\u001b[0m\n",
            "\u001b[?25hInstalling collected packages: openai\n",
            "  Attempting uninstall: openai\n",
            "    Found existing installation: openai 1.54.4\n",
            "    Uninstalling openai-1.54.4:\n",
            "      Successfully uninstalled openai-1.54.4\n",
            "Successfully installed openai-0.28.1\n",
            "Collecting fpdf==1.7.2\n",
            "  Downloading fpdf-1.7.2.tar.gz (39 kB)\n",
            "  Preparing metadata (setup.py) ... \u001b[?25l\u001b[?25hdone\n",
            "Building wheels for collected packages: fpdf\n",
            "  Building wheel for fpdf (setup.py) ... \u001b[?25l\u001b[?25hdone\n",
            "  Created wheel for fpdf: filename=fpdf-1.7.2-py2.py3-none-any.whl size=40704 sha256=ab765f740ac4317cd0b8df3b156ed21c55910da59303359c9ee7e911ebe970b6\n",
            "  Stored in directory: /root/.cache/pip/wheels/f9/95/ba/f418094659025eb9611f17cbcaf2334236bf39a0c3453ea455\n",
            "Successfully built fpdf\n",
            "Installing collected packages: fpdf\n",
            "Successfully installed fpdf-1.7.2\n"
          ]
        }
      ]
    },
    {
      "cell_type": "code",
      "execution_count": 2,
      "id": "48ef5895-994b-4287-be64-6bfc2d5cea03",
      "metadata": {
        "id": "48ef5895-994b-4287-be64-6bfc2d5cea03"
      },
      "outputs": [],
      "source": [
        "import pandas as pd\n",
        "import openai\n",
        "import time\n",
        "from fpdf import FPDF\n",
        "\n",
        "openai.api_key = ''"
      ]
    },
    {
      "cell_type": "markdown",
      "source": [
        "## Load the dataset"
      ],
      "metadata": {
        "id": "71nyWCPo9mui"
      },
      "id": "71nyWCPo9mui"
    },
    {
      "cell_type": "code",
      "source": [
        "df = pd.read_csv('https://raw.githubusercontent.com/wansitorres/FreightMate/refs/heads/main/Freightdata.csv')"
      ],
      "metadata": {
        "id": "iNEtAbnJma2J"
      },
      "id": "iNEtAbnJma2J",
      "execution_count": 3,
      "outputs": []
    },
    {
      "cell_type": "code",
      "source": [
        "df.sample(5)"
      ],
      "metadata": {
        "id": "Ye6HoobRmc2k",
        "colab": {
          "base_uri": "https://localhost:8080/",
          "height": 677
        },
        "outputId": "8b318b3d-a9e3-4963-fc67-d991d1d055f7"
      },
      "id": "Ye6HoobRmc2k",
      "execution_count": 4,
      "outputs": [
        {
          "output_type": "execute_result",
          "data": {
            "text/plain": [
              "    Order ID  Item Description  Weight (kg)  Volume (m³) Origin City  \\\n",
              "8          9             Books          300          1.2      Manila   \n",
              "15        16       Frozen Meat          500          1.0   Cebu City   \n",
              "5          6          Clothing          200          0.8      Manila   \n",
              "4          5  Fresh Vegetables          150          0.5     Benguet   \n",
              "7          8  Medical Supplies           50          0.1      Manila   \n",
              "\n",
              "   Destination City Urgency Level  Preferred Delivery Time (days)  \\\n",
              "8      Bacolod City        Medium                               5   \n",
              "15   Zamboanga City          High                               2   \n",
              "5         Cebu City           Low                               5   \n",
              "4       Quezon City          High                               1   \n",
              "7    Cagayan de Oro          High                               1   \n",
              "\n",
              "   Distance (km) Budget (PHP)    Special Requirements Freight Mode Used  \\\n",
              "8            610        4,000     Non-urgent shipping               Sea   \n",
              "15           820       12,000            Refrigerated               Sea   \n",
              "5            800        6,000        Regular shipping               Sea   \n",
              "4            300        5,000  Requires refrigeration              Land   \n",
              "7            790       10,000  High priority, fragile               Air   \n",
              "\n",
              "                       Reason for Freight Mode Chosen  \n",
              "8      Cost-effective option for non-perishable items  \n",
              "15  Sea freight used due to high refrigeration cap...  \n",
              "5       Sea offered lower cost for low-priority items  \n",
              "4   Land chosen due to proximity and rapid deliver...  \n",
              "7   Air used to ensure timely and safe delivery of...  "
            ],
            "text/html": [
              "\n",
              "  <div id=\"df-14c14389-e5d5-4e54-8e23-45e3fc658775\" class=\"colab-df-container\">\n",
              "    <div>\n",
              "<style scoped>\n",
              "    .dataframe tbody tr th:only-of-type {\n",
              "        vertical-align: middle;\n",
              "    }\n",
              "\n",
              "    .dataframe tbody tr th {\n",
              "        vertical-align: top;\n",
              "    }\n",
              "\n",
              "    .dataframe thead th {\n",
              "        text-align: right;\n",
              "    }\n",
              "</style>\n",
              "<table border=\"1\" class=\"dataframe\">\n",
              "  <thead>\n",
              "    <tr style=\"text-align: right;\">\n",
              "      <th></th>\n",
              "      <th>Order ID</th>\n",
              "      <th>Item Description</th>\n",
              "      <th>Weight (kg)</th>\n",
              "      <th>Volume (m³)</th>\n",
              "      <th>Origin City</th>\n",
              "      <th>Destination City</th>\n",
              "      <th>Urgency Level</th>\n",
              "      <th>Preferred Delivery Time (days)</th>\n",
              "      <th>Distance (km)</th>\n",
              "      <th>Budget (PHP)</th>\n",
              "      <th>Special Requirements</th>\n",
              "      <th>Freight Mode Used</th>\n",
              "      <th>Reason for Freight Mode Chosen</th>\n",
              "    </tr>\n",
              "  </thead>\n",
              "  <tbody>\n",
              "    <tr>\n",
              "      <th>8</th>\n",
              "      <td>9</td>\n",
              "      <td>Books</td>\n",
              "      <td>300</td>\n",
              "      <td>1.2</td>\n",
              "      <td>Manila</td>\n",
              "      <td>Bacolod City</td>\n",
              "      <td>Medium</td>\n",
              "      <td>5</td>\n",
              "      <td>610</td>\n",
              "      <td>4,000</td>\n",
              "      <td>Non-urgent shipping</td>\n",
              "      <td>Sea</td>\n",
              "      <td>Cost-effective option for non-perishable items</td>\n",
              "    </tr>\n",
              "    <tr>\n",
              "      <th>15</th>\n",
              "      <td>16</td>\n",
              "      <td>Frozen Meat</td>\n",
              "      <td>500</td>\n",
              "      <td>1.0</td>\n",
              "      <td>Cebu City</td>\n",
              "      <td>Zamboanga City</td>\n",
              "      <td>High</td>\n",
              "      <td>2</td>\n",
              "      <td>820</td>\n",
              "      <td>12,000</td>\n",
              "      <td>Refrigerated</td>\n",
              "      <td>Sea</td>\n",
              "      <td>Sea freight used due to high refrigeration cap...</td>\n",
              "    </tr>\n",
              "    <tr>\n",
              "      <th>5</th>\n",
              "      <td>6</td>\n",
              "      <td>Clothing</td>\n",
              "      <td>200</td>\n",
              "      <td>0.8</td>\n",
              "      <td>Manila</td>\n",
              "      <td>Cebu City</td>\n",
              "      <td>Low</td>\n",
              "      <td>5</td>\n",
              "      <td>800</td>\n",
              "      <td>6,000</td>\n",
              "      <td>Regular shipping</td>\n",
              "      <td>Sea</td>\n",
              "      <td>Sea offered lower cost for low-priority items</td>\n",
              "    </tr>\n",
              "    <tr>\n",
              "      <th>4</th>\n",
              "      <td>5</td>\n",
              "      <td>Fresh Vegetables</td>\n",
              "      <td>150</td>\n",
              "      <td>0.5</td>\n",
              "      <td>Benguet</td>\n",
              "      <td>Quezon City</td>\n",
              "      <td>High</td>\n",
              "      <td>1</td>\n",
              "      <td>300</td>\n",
              "      <td>5,000</td>\n",
              "      <td>Requires refrigeration</td>\n",
              "      <td>Land</td>\n",
              "      <td>Land chosen due to proximity and rapid deliver...</td>\n",
              "    </tr>\n",
              "    <tr>\n",
              "      <th>7</th>\n",
              "      <td>8</td>\n",
              "      <td>Medical Supplies</td>\n",
              "      <td>50</td>\n",
              "      <td>0.1</td>\n",
              "      <td>Manila</td>\n",
              "      <td>Cagayan de Oro</td>\n",
              "      <td>High</td>\n",
              "      <td>1</td>\n",
              "      <td>790</td>\n",
              "      <td>10,000</td>\n",
              "      <td>High priority, fragile</td>\n",
              "      <td>Air</td>\n",
              "      <td>Air used to ensure timely and safe delivery of...</td>\n",
              "    </tr>\n",
              "  </tbody>\n",
              "</table>\n",
              "</div>\n",
              "    <div class=\"colab-df-buttons\">\n",
              "\n",
              "  <div class=\"colab-df-container\">\n",
              "    <button class=\"colab-df-convert\" onclick=\"convertToInteractive('df-14c14389-e5d5-4e54-8e23-45e3fc658775')\"\n",
              "            title=\"Convert this dataframe to an interactive table.\"\n",
              "            style=\"display:none;\">\n",
              "\n",
              "  <svg xmlns=\"http://www.w3.org/2000/svg\" height=\"24px\" viewBox=\"0 -960 960 960\">\n",
              "    <path d=\"M120-120v-720h720v720H120Zm60-500h600v-160H180v160Zm220 220h160v-160H400v160Zm0 220h160v-160H400v160ZM180-400h160v-160H180v160Zm440 0h160v-160H620v160ZM180-180h160v-160H180v160Zm440 0h160v-160H620v160Z\"/>\n",
              "  </svg>\n",
              "    </button>\n",
              "\n",
              "  <style>\n",
              "    .colab-df-container {\n",
              "      display:flex;\n",
              "      gap: 12px;\n",
              "    }\n",
              "\n",
              "    .colab-df-convert {\n",
              "      background-color: #E8F0FE;\n",
              "      border: none;\n",
              "      border-radius: 50%;\n",
              "      cursor: pointer;\n",
              "      display: none;\n",
              "      fill: #1967D2;\n",
              "      height: 32px;\n",
              "      padding: 0 0 0 0;\n",
              "      width: 32px;\n",
              "    }\n",
              "\n",
              "    .colab-df-convert:hover {\n",
              "      background-color: #E2EBFA;\n",
              "      box-shadow: 0px 1px 2px rgba(60, 64, 67, 0.3), 0px 1px 3px 1px rgba(60, 64, 67, 0.15);\n",
              "      fill: #174EA6;\n",
              "    }\n",
              "\n",
              "    .colab-df-buttons div {\n",
              "      margin-bottom: 4px;\n",
              "    }\n",
              "\n",
              "    [theme=dark] .colab-df-convert {\n",
              "      background-color: #3B4455;\n",
              "      fill: #D2E3FC;\n",
              "    }\n",
              "\n",
              "    [theme=dark] .colab-df-convert:hover {\n",
              "      background-color: #434B5C;\n",
              "      box-shadow: 0px 1px 3px 1px rgba(0, 0, 0, 0.15);\n",
              "      filter: drop-shadow(0px 1px 2px rgba(0, 0, 0, 0.3));\n",
              "      fill: #FFFFFF;\n",
              "    }\n",
              "  </style>\n",
              "\n",
              "    <script>\n",
              "      const buttonEl =\n",
              "        document.querySelector('#df-14c14389-e5d5-4e54-8e23-45e3fc658775 button.colab-df-convert');\n",
              "      buttonEl.style.display =\n",
              "        google.colab.kernel.accessAllowed ? 'block' : 'none';\n",
              "\n",
              "      async function convertToInteractive(key) {\n",
              "        const element = document.querySelector('#df-14c14389-e5d5-4e54-8e23-45e3fc658775');\n",
              "        const dataTable =\n",
              "          await google.colab.kernel.invokeFunction('convertToInteractive',\n",
              "                                                    [key], {});\n",
              "        if (!dataTable) return;\n",
              "\n",
              "        const docLinkHtml = 'Like what you see? Visit the ' +\n",
              "          '<a target=\"_blank\" href=https://colab.research.google.com/notebooks/data_table.ipynb>data table notebook</a>'\n",
              "          + ' to learn more about interactive tables.';\n",
              "        element.innerHTML = '';\n",
              "        dataTable['output_type'] = 'display_data';\n",
              "        await google.colab.output.renderOutput(dataTable, element);\n",
              "        const docLink = document.createElement('div');\n",
              "        docLink.innerHTML = docLinkHtml;\n",
              "        element.appendChild(docLink);\n",
              "      }\n",
              "    </script>\n",
              "  </div>\n",
              "\n",
              "\n",
              "<div id=\"df-4bcbcd33-8384-4f2a-af97-2ed46a67dd4f\">\n",
              "  <button class=\"colab-df-quickchart\" onclick=\"quickchart('df-4bcbcd33-8384-4f2a-af97-2ed46a67dd4f')\"\n",
              "            title=\"Suggest charts\"\n",
              "            style=\"display:none;\">\n",
              "\n",
              "<svg xmlns=\"http://www.w3.org/2000/svg\" height=\"24px\"viewBox=\"0 0 24 24\"\n",
              "     width=\"24px\">\n",
              "    <g>\n",
              "        <path d=\"M19 3H5c-1.1 0-2 .9-2 2v14c0 1.1.9 2 2 2h14c1.1 0 2-.9 2-2V5c0-1.1-.9-2-2-2zM9 17H7v-7h2v7zm4 0h-2V7h2v10zm4 0h-2v-4h2v4z\"/>\n",
              "    </g>\n",
              "</svg>\n",
              "  </button>\n",
              "\n",
              "<style>\n",
              "  .colab-df-quickchart {\n",
              "      --bg-color: #E8F0FE;\n",
              "      --fill-color: #1967D2;\n",
              "      --hover-bg-color: #E2EBFA;\n",
              "      --hover-fill-color: #174EA6;\n",
              "      --disabled-fill-color: #AAA;\n",
              "      --disabled-bg-color: #DDD;\n",
              "  }\n",
              "\n",
              "  [theme=dark] .colab-df-quickchart {\n",
              "      --bg-color: #3B4455;\n",
              "      --fill-color: #D2E3FC;\n",
              "      --hover-bg-color: #434B5C;\n",
              "      --hover-fill-color: #FFFFFF;\n",
              "      --disabled-bg-color: #3B4455;\n",
              "      --disabled-fill-color: #666;\n",
              "  }\n",
              "\n",
              "  .colab-df-quickchart {\n",
              "    background-color: var(--bg-color);\n",
              "    border: none;\n",
              "    border-radius: 50%;\n",
              "    cursor: pointer;\n",
              "    display: none;\n",
              "    fill: var(--fill-color);\n",
              "    height: 32px;\n",
              "    padding: 0;\n",
              "    width: 32px;\n",
              "  }\n",
              "\n",
              "  .colab-df-quickchart:hover {\n",
              "    background-color: var(--hover-bg-color);\n",
              "    box-shadow: 0 1px 2px rgba(60, 64, 67, 0.3), 0 1px 3px 1px rgba(60, 64, 67, 0.15);\n",
              "    fill: var(--button-hover-fill-color);\n",
              "  }\n",
              "\n",
              "  .colab-df-quickchart-complete:disabled,\n",
              "  .colab-df-quickchart-complete:disabled:hover {\n",
              "    background-color: var(--disabled-bg-color);\n",
              "    fill: var(--disabled-fill-color);\n",
              "    box-shadow: none;\n",
              "  }\n",
              "\n",
              "  .colab-df-spinner {\n",
              "    border: 2px solid var(--fill-color);\n",
              "    border-color: transparent;\n",
              "    border-bottom-color: var(--fill-color);\n",
              "    animation:\n",
              "      spin 1s steps(1) infinite;\n",
              "  }\n",
              "\n",
              "  @keyframes spin {\n",
              "    0% {\n",
              "      border-color: transparent;\n",
              "      border-bottom-color: var(--fill-color);\n",
              "      border-left-color: var(--fill-color);\n",
              "    }\n",
              "    20% {\n",
              "      border-color: transparent;\n",
              "      border-left-color: var(--fill-color);\n",
              "      border-top-color: var(--fill-color);\n",
              "    }\n",
              "    30% {\n",
              "      border-color: transparent;\n",
              "      border-left-color: var(--fill-color);\n",
              "      border-top-color: var(--fill-color);\n",
              "      border-right-color: var(--fill-color);\n",
              "    }\n",
              "    40% {\n",
              "      border-color: transparent;\n",
              "      border-right-color: var(--fill-color);\n",
              "      border-top-color: var(--fill-color);\n",
              "    }\n",
              "    60% {\n",
              "      border-color: transparent;\n",
              "      border-right-color: var(--fill-color);\n",
              "    }\n",
              "    80% {\n",
              "      border-color: transparent;\n",
              "      border-right-color: var(--fill-color);\n",
              "      border-bottom-color: var(--fill-color);\n",
              "    }\n",
              "    90% {\n",
              "      border-color: transparent;\n",
              "      border-bottom-color: var(--fill-color);\n",
              "    }\n",
              "  }\n",
              "</style>\n",
              "\n",
              "  <script>\n",
              "    async function quickchart(key) {\n",
              "      const quickchartButtonEl =\n",
              "        document.querySelector('#' + key + ' button');\n",
              "      quickchartButtonEl.disabled = true;  // To prevent multiple clicks.\n",
              "      quickchartButtonEl.classList.add('colab-df-spinner');\n",
              "      try {\n",
              "        const charts = await google.colab.kernel.invokeFunction(\n",
              "            'suggestCharts', [key], {});\n",
              "      } catch (error) {\n",
              "        console.error('Error during call to suggestCharts:', error);\n",
              "      }\n",
              "      quickchartButtonEl.classList.remove('colab-df-spinner');\n",
              "      quickchartButtonEl.classList.add('colab-df-quickchart-complete');\n",
              "    }\n",
              "    (() => {\n",
              "      let quickchartButtonEl =\n",
              "        document.querySelector('#df-4bcbcd33-8384-4f2a-af97-2ed46a67dd4f button');\n",
              "      quickchartButtonEl.style.display =\n",
              "        google.colab.kernel.accessAllowed ? 'block' : 'none';\n",
              "    })();\n",
              "  </script>\n",
              "</div>\n",
              "\n",
              "    </div>\n",
              "  </div>\n"
            ],
            "application/vnd.google.colaboratory.intrinsic+json": {
              "type": "dataframe",
              "summary": "{\n  \"name\": \"df\",\n  \"rows\": 5,\n  \"fields\": [\n    {\n      \"column\": \"Order ID\",\n      \"properties\": {\n        \"dtype\": \"number\",\n        \"std\": 4,\n        \"min\": 5,\n        \"max\": 16,\n        \"num_unique_values\": 5,\n        \"samples\": [\n          16,\n          8,\n          6\n        ],\n        \"semantic_type\": \"\",\n        \"description\": \"\"\n      }\n    },\n    {\n      \"column\": \"Item Description\",\n      \"properties\": {\n        \"dtype\": \"string\",\n        \"num_unique_values\": 5,\n        \"samples\": [\n          \"Frozen Meat\",\n          \"Medical Supplies\",\n          \"Clothing\"\n        ],\n        \"semantic_type\": \"\",\n        \"description\": \"\"\n      }\n    },\n    {\n      \"column\": \"Weight (kg)\",\n      \"properties\": {\n        \"dtype\": \"number\",\n        \"std\": 171,\n        \"min\": 50,\n        \"max\": 500,\n        \"num_unique_values\": 5,\n        \"samples\": [\n          500,\n          50,\n          200\n        ],\n        \"semantic_type\": \"\",\n        \"description\": \"\"\n      }\n    },\n    {\n      \"column\": \"Volume (m\\u00b3)\",\n      \"properties\": {\n        \"dtype\": \"number\",\n        \"std\": 0.43243496620879307,\n        \"min\": 0.1,\n        \"max\": 1.2,\n        \"num_unique_values\": 5,\n        \"samples\": [\n          1.0,\n          0.1,\n          0.8\n        ],\n        \"semantic_type\": \"\",\n        \"description\": \"\"\n      }\n    },\n    {\n      \"column\": \"Origin City\",\n      \"properties\": {\n        \"dtype\": \"string\",\n        \"num_unique_values\": 3,\n        \"samples\": [\n          \"Manila\",\n          \"Cebu City\",\n          \"Benguet\"\n        ],\n        \"semantic_type\": \"\",\n        \"description\": \"\"\n      }\n    },\n    {\n      \"column\": \"Destination City\",\n      \"properties\": {\n        \"dtype\": \"string\",\n        \"num_unique_values\": 5,\n        \"samples\": [\n          \"Zamboanga City\",\n          \"Cagayan de Oro\",\n          \"Cebu City\"\n        ],\n        \"semantic_type\": \"\",\n        \"description\": \"\"\n      }\n    },\n    {\n      \"column\": \"Urgency Level\",\n      \"properties\": {\n        \"dtype\": \"string\",\n        \"num_unique_values\": 3,\n        \"samples\": [\n          \"Medium\",\n          \"High\",\n          \"Low\"\n        ],\n        \"semantic_type\": \"\",\n        \"description\": \"\"\n      }\n    },\n    {\n      \"column\": \"Preferred Delivery Time (days)\",\n      \"properties\": {\n        \"dtype\": \"number\",\n        \"std\": 2,\n        \"min\": 1,\n        \"max\": 5,\n        \"num_unique_values\": 3,\n        \"samples\": [\n          5,\n          2,\n          1\n        ],\n        \"semantic_type\": \"\",\n        \"description\": \"\"\n      }\n    },\n    {\n      \"column\": \"Distance (km)\",\n      \"properties\": {\n        \"dtype\": \"string\",\n        \"num_unique_values\": 5,\n        \"samples\": [\n          \"820\",\n          \"790\",\n          \"800\"\n        ],\n        \"semantic_type\": \"\",\n        \"description\": \"\"\n      }\n    },\n    {\n      \"column\": \"Budget (PHP)\",\n      \"properties\": {\n        \"dtype\": \"string\",\n        \"num_unique_values\": 5,\n        \"samples\": [\n          \"12,000\",\n          \"10,000\",\n          \"6,000\"\n        ],\n        \"semantic_type\": \"\",\n        \"description\": \"\"\n      }\n    },\n    {\n      \"column\": \"Special Requirements\",\n      \"properties\": {\n        \"dtype\": \"string\",\n        \"num_unique_values\": 5,\n        \"samples\": [\n          \"Refrigerated\",\n          \"High priority, fragile\",\n          \"Regular shipping\"\n        ],\n        \"semantic_type\": \"\",\n        \"description\": \"\"\n      }\n    },\n    {\n      \"column\": \"Freight Mode Used\",\n      \"properties\": {\n        \"dtype\": \"string\",\n        \"num_unique_values\": 3,\n        \"samples\": [\n          \"Sea\",\n          \"Land\",\n          \"Air\"\n        ],\n        \"semantic_type\": \"\",\n        \"description\": \"\"\n      }\n    },\n    {\n      \"column\": \"Reason for Freight Mode Chosen\",\n      \"properties\": {\n        \"dtype\": \"string\",\n        \"num_unique_values\": 5,\n        \"samples\": [\n          \"Sea freight used due to high refrigeration capacity\",\n          \"Air used to ensure timely and safe delivery of critical supplies\",\n          \"Sea offered lower cost for low-priority items\"\n        ],\n        \"semantic_type\": \"\",\n        \"description\": \"\"\n      }\n    }\n  ]\n}"
            }
          },
          "metadata": {},
          "execution_count": 4
        }
      ]
    },
    {
      "cell_type": "markdown",
      "source": [
        "## Understanding the Dataset"
      ],
      "metadata": {
        "id": "QusTNnFu92Jx"
      },
      "id": "QusTNnFu92Jx"
    },
    {
      "cell_type": "code",
      "source": [
        "# Get Column Names and Data Types\n",
        "\n",
        "column_info = df.dtypes\n",
        "df['Order ID'] = df['Order ID'].astype(object)\n",
        "print(column_info, \"\\n\")"
      ],
      "metadata": {
        "id": "xTpEc-cd8-_l",
        "colab": {
          "base_uri": "https://localhost:8080/"
        },
        "outputId": "49fe6992-f025-4f27-b5bc-e172aaebd5a2"
      },
      "id": "xTpEc-cd8-_l",
      "execution_count": 16,
      "outputs": [
        {
          "output_type": "stream",
          "name": "stdout",
          "text": [
            "Order ID                           object\n",
            "Item Description                   object\n",
            "Weight (kg)                         int64\n",
            "Volume (m³)                       float64\n",
            "Origin City                        object\n",
            "Destination City                   object\n",
            "Urgency Level                      object\n",
            "Preferred Delivery Time (days)      int64\n",
            "Distance (km)                      object\n",
            "Budget (PHP)                       object\n",
            "Special Requirements               object\n",
            "Freight Mode Used                  object\n",
            "Reason for Freight Mode Chosen     object\n",
            "dtype: object \n",
            "\n"
          ]
        }
      ]
    },
    {
      "cell_type": "code",
      "source": [
        "# Identify Categorical and Numerical Features\n",
        "\n",
        "categorical_features = df.select_dtypes(include=['object']).columns.tolist()\n",
        "numerical_features = df.select_dtypes(include=['int64', 'float64']).columns.tolist()\n",
        "\n",
        "print(\"Categorical Features:\", categorical_features)\n",
        "print(\"Numerical Features:\", numerical_features)"
      ],
      "metadata": {
        "id": "0TYP9kiM-E0W",
        "colab": {
          "base_uri": "https://localhost:8080/"
        },
        "outputId": "8bfc26fa-9225-4dfd-c025-94e26f8793e6"
      },
      "id": "0TYP9kiM-E0W",
      "execution_count": 17,
      "outputs": [
        {
          "output_type": "stream",
          "name": "stdout",
          "text": [
            "Categorical Features: ['Order ID', 'Item Description', 'Origin City', 'Destination City', 'Urgency Level', 'Distance (km)', 'Budget (PHP)', 'Special Requirements', 'Freight Mode Used', 'Reason for Freight Mode Chosen']\n",
            "Numerical Features: ['Weight (kg)', 'Volume (m³)', 'Preferred Delivery Time (days)']\n"
          ]
        }
      ]
    },
    {
      "cell_type": "code",
      "execution_count": 18,
      "id": "422cc4d7-966b-4ea8-b991-df4a21f8ac64",
      "metadata": {
        "id": "422cc4d7-966b-4ea8-b991-df4a21f8ac64",
        "colab": {
          "base_uri": "https://localhost:8080/"
        },
        "outputId": "685fbdfb-42c2-404e-a5b2-f79430080190"
      },
      "outputs": [
        {
          "output_type": "stream",
          "name": "stdout",
          "text": [
            "Unique Values for Categorical Features:\n",
            "- Order ID: [1, 2, 3, 4, 5, 6, 7, 8, 9, 10, 11, 12, 13, 14, 15, 16, 17, 18, 19, 20]\n",
            "- Item Description: ['Fresh Tuna', 'Electronics Parts', 'Rice', 'Furniture Set', 'Fresh Vegetables', 'Clothing', 'Construction Materials', 'Medical Supplies', 'Books', 'Livestock Feed', 'Pharmaceuticals', 'Household Appliances', 'Industrial Machinery', 'Office Supplies', 'High-end Perfumes', 'Frozen Meat', 'Handcrafted Furniture', 'Fresh Flowers', 'Seafood', 'Agricultural Equipment']\n",
            "- Origin City: ['General Santos', 'Manila', 'Nueva Ecija', 'Cebu City', 'Benguet', 'Davao City', 'Bacolod City', 'Pampanga', 'Baguio City', 'Batangas', '...']\n",
            "- Destination City: ['Cebu City', 'Davao City', 'Iloilo City', 'Manila', 'Quezon City', 'Cagayan de Oro', 'Bacolod City', 'Zamboanga City', '...']\n",
            "- Urgency Level: ['High', 'Medium', 'Low', '...']\n",
            "- Distance (km): ['700', '960', '450', '570', '300', '800', '790', '610', '400', '820', '1,000', '250', '1,100', '1,200']\n",
            "- Budget (PHP): ['15,000', '10,000', '8,000', '12,000', '5,000', '6,000', '30,000', '4,000', '7,000', '20,000', '9,000', '18,000', '25,000']\n",
            "- Special Requirements: ['Requires refrigeration', 'Fragile, fast delivery', 'Bulk cargo, non-perishable', 'Bulky but not urgent', 'Regular shipping', 'Heavy, durable materials', 'High priority, fragile', 'Non-urgent shipping', 'Bulk cargo', 'Fragile, temp-controlled', 'Fragile, bulky', 'Heavy load', 'Regular cargo', 'Fragile', 'Refrigerated', 'Heavy, non-urgent']\n",
            "- Freight Mode Used: ['Air', 'Sea', 'Land', '...']\n",
            "- Reason for Freight Mode Chosen: ['Chose air for speed due to perishable goods', 'Used air to prevent delays, as components were for urgent repair', 'Cost-efficiency for bulk shipment over long distance', 'Sea was more economical for bulky, low-urgency items', 'Land chosen due to proximity and rapid delivery need', 'Sea offered lower cost for low-priority items', 'Sea chosen to handle heavy load affordably', 'Air used to ensure timely and safe delivery of critical supplies', 'Cost-effective option for non-perishable items', 'Bulk load, with low urgency; sea most economical', 'Chose air to maintain safe handling and speed', 'Sea option saved cost for fragile, mid-priority items', 'Sea was cheapest for very heavy and non-urgent cargo', 'Sea preferred for affordability for non-urgent delivery', 'Air used to prevent damage during transit', 'Sea freight used due to high refrigeration capacity', 'Sea provided cost-efficiency for fragile, low-priority furniture', 'Land preferred for same-day delivery of perishables', 'Used air for quick delivery to maintain freshness', 'Chose sea for heavy load; low urgency allowed slower transit']\n"
          ]
        }
      ],
      "source": [
        "# Get Unique Values for Categorical Features with Limitation\n",
        "\n",
        "def get_unique_values(col, max_display= 10):\n",
        "  unique_values= df[col].unique().tolist()\n",
        "  if len(unique_values) <= max_display:\n",
        "    return unique_values[:max_display] + [\"...\"]\n",
        "  return unique_values\n",
        "unique_values = {col: get_unique_values(col) for col in categorical_features}\n",
        "print(\"Unique Values for Categorical Features:\")\n",
        "for col, values in unique_values.items():\n",
        "  print(f\"- {col}: {values}\")"
      ]
    },
    {
      "cell_type": "code",
      "source": [
        "# Get Descriptive Statistics for Numerical Features\n",
        "\n",
        "numerical_stats = df[numerical_features].describe()\n",
        "print(\"Descriptive Statistics for Numerical Features:\\n\", numerical_stats, \"\\n\")\n"
      ],
      "metadata": {
        "id": "CbfloRag9Kup",
        "colab": {
          "base_uri": "https://localhost:8080/"
        },
        "outputId": "25333133-6a3f-44d5-d0d7-903bc09d1fd7"
      },
      "id": "CbfloRag9Kup",
      "execution_count": 19,
      "outputs": [
        {
          "output_type": "stream",
          "name": "stdout",
          "text": [
            "Descriptive Statistics for Numerical Features:\n",
            "        Weight (kg)  Volume (m³)  Preferred Delivery Time (days)\n",
            "count    20.000000    20.000000                       20.000000\n",
            "mean   1498.500000     2.612500                        4.300000\n",
            "std    2417.347992     3.791676                        3.599708\n",
            "min      20.000000     0.050000                        1.000000\n",
            "25%     100.000000     0.275000                        1.000000\n",
            "50%     300.000000     1.100000                        4.000000\n",
            "75%    1100.000000     3.250000                        6.000000\n",
            "max    8000.000000    15.000000                       15.000000 \n",
            "\n"
          ]
        }
      ]
    },
    {
      "cell_type": "markdown",
      "source": [
        "## Generating the Template"
      ],
      "metadata": {
        "id": "7J1vcAcp-LO_"
      },
      "id": "7J1vcAcp-LO_"
    },
    {
      "cell_type": "code",
      "execution_count": 28,
      "id": "eddf122d-9766-408c-88df-b84ef9a649cf",
      "metadata": {
        "id": "eddf122d-9766-408c-88df-b84ef9a649cf"
      },
      "outputs": [],
      "source": [
        "def generate_template(df,\n",
        "                      column_info,\n",
        "                      categorical_features,\n",
        "                      numerical_features,\n",
        "                      unique_values,\n",
        "                      numerical_stats):\n",
        "\n",
        "    # Construct a summary of the dataframe's structure\n",
        "    column_summary = \"Column Names and Data Types:\\n\"\n",
        "    for col, dtype in column_info.items():\n",
        "        column_summary += f\"- {col}: {dtype}\\n\"\n",
        "\n",
        "    # Unique values for categorical features\n",
        "    unique_values_str = \"Unique Values for Categorical Features:\\n\"\n",
        "    for col, values in unique_values.items():\n",
        "        unique_values_str += f\"- {col}: {values}\\n\"\n",
        "\n",
        "\n",
        "    # Descriptive statistics for numerical features\n",
        "    numerical_stats_str = \"Descriptive Statistics for Numerical Features:\\n\"\n",
        "    for col in numerical_features:  # Removed the parentheses here\n",
        "        numerical_stats_str += f\"- {col}:\\n\"\n",
        "        for stat, value in numerical_stats[col].items():\n",
        "            numerical_stats_str += f\"  {stat}: {value}\\n\"\n",
        "\n",
        "\n",
        "    # Define the system prompt\n",
        "    system_prompt = \"\"\"\n",
        "    \"You are an intelligent assistant that creates descriptive templates for transforming dataframe rows into coherent paragraphs.\n",
        "    Analyze the provided dataframe structure and generate a template sentence that includes placeholders for each column.\n",
        "    Ensure the template is contextually relevant and maintains grammatical correctness\n",
        "    \"\"\"\n",
        "\n",
        "\n",
        "    # Define the user prompt\n",
        "    user_prompt = f\"\"\"\n",
        "    Analyze the following dataframe structure and create a descriptive template with placeholders for each column.\n",
        "\n",
        "    <column_summary>\n",
        "    {column_summary}\n",
        "    </column_summary>\n",
        "\n",
        "    <unique_values>\n",
        "    {unique_values_str}\n",
        "    </unique_values>\n",
        "\n",
        "    <numerical_stats>\n",
        "    {numerical_stats_str}\n",
        "    </numerical_stats>\n",
        "\n",
        "    Use the exact column names from the column_summary in generating the variable names in the template,\n",
        "    as they will be populated with the actual values in the dataset.\n",
        "\n",
        "    Example Template about a Spotify dataset:\n",
        "    \"{{artist}} gained {{streams}} streams in the song '{{song}}' that was a hit in {{date}}.\"\n",
        "\n",
        "\n",
        "    Output only the template without any explanation or introduction.\n",
        "    The template's variables will be dynamically replaced so make sure they're formatted properly.\n",
        "    \"\"\"\n",
        "\n",
        "\n",
        "    # Generate the template (with retries)\n",
        "    retries = 3\n",
        "    for attempt in range(retries):\n",
        "      try:\n",
        "        response = openai.ChatCompletion.create(\n",
        "            model= \"gpt-4o-mini\",\n",
        "            temperature = 0.3,\n",
        "            max_tokens = 1024,\n",
        "            messages=[\n",
        "                {\"role\": \"system\", \"content\": system_prompt},\n",
        "                {\"role\": \"user\", \"content\": user_prompt}\n",
        "            ]\n",
        "        )\n",
        "        template = response['choices'][0]['message']['content'].strip()\n",
        "        return template\n",
        "      except Exception as e:\n",
        "            print(f\"Error generating template (Attempt {attempt + 1}/{retries}): {e}\")\n",
        "            time.sleep(2)\n",
        "    return None\n"
      ]
    },
    {
      "cell_type": "code",
      "execution_count": 29,
      "id": "f8a0fd91-80de-4e08-8f86-44325a8accd3",
      "metadata": {
        "id": "f8a0fd91-80de-4e08-8f86-44325a8accd3",
        "colab": {
          "base_uri": "https://localhost:8080/"
        },
        "outputId": "79b99047-b5bf-4c09-ec8d-1b0ce6a9c11c"
      },
      "outputs": [
        {
          "output_type": "stream",
          "name": "stdout",
          "text": [
            "\"Order ID {Order ID} involves the shipment of {Item Description}, weighing {Weight (kg)} kg and occupying a volume of {Volume (m³)} m³. The shipment originates from {Origin City} and is destined for {Destination City}. Given the {Urgency Level} urgency level, a preferred delivery time of {Preferred Delivery Time (days)} days has been set, covering a distance of {Distance (km)} km. The budget allocated for this order is {Budget (PHP)}, with special requirements noted as '{Special Requirements}'. The freight mode selected for this shipment is {Freight Mode Used}, chosen for the following reason: '{Reason for Freight Mode Chosen}'.\"\n"
          ]
        }
      ],
      "source": [
        "# Generate the template\n",
        "\n",
        "template = generate_template(df,\n",
        "    column_info,\n",
        "    categorical_features,\n",
        "    numerical_features,\n",
        "    unique_values,\n",
        "    numerical_stats)\n",
        "\n",
        "print(template)"
      ]
    },
    {
      "cell_type": "markdown",
      "source": [
        "## Populating the Template with Actual Values"
      ],
      "metadata": {
        "id": "VWPq3mcY-r40"
      },
      "id": "VWPq3mcY-r40"
    },
    {
      "cell_type": "code",
      "execution_count": 34,
      "id": "258e73ea-3500-49bb-9820-20637375dd55",
      "metadata": {
        "id": "258e73ea-3500-49bb-9820-20637375dd55"
      },
      "outputs": [],
      "source": [
        "def populate_template(template, row):\n",
        "\n",
        "    # Convert row to dictionary and replace NaN with 'N/A'\n",
        "    row_dict = row.to_dict()\n",
        "    for key, value in row_dict.items():\n",
        "        if pd.isna(value):\n",
        "            row_dict[key] = 'N/A'\n",
        "\n",
        "    # Generate the populated template per row\n",
        "    paragraph = template.format(**row_dict)\n",
        "    return paragraph"
      ]
    },
    {
      "cell_type": "code",
      "source": [
        "# Apply the populate_template function to each row in the dataframe\n",
        "df['paragraph'] = df.apply(lambda row: populate_template(template, row), axis=1)"
      ],
      "metadata": {
        "id": "rIhyXGSD_Ke4"
      },
      "id": "rIhyXGSD_Ke4",
      "execution_count": 35,
      "outputs": []
    },
    {
      "cell_type": "code",
      "source": [
        "df['paragraph'][0]"
      ],
      "metadata": {
        "colab": {
          "base_uri": "https://localhost:8080/",
          "height": 110
        },
        "id": "2R4xLkZxOq7c",
        "outputId": "65c33a1c-0979-4648-fb54-a7c0275db3f8"
      },
      "id": "2R4xLkZxOq7c",
      "execution_count": 36,
      "outputs": [
        {
          "output_type": "execute_result",
          "data": {
            "text/plain": [
              "'\"Order ID 1 involves the shipment of Fresh Tuna, weighing 200 kg and occupying a volume of 0.8 m³. The shipment originates from General Santos and is destined for Cebu City. Given the High urgency level, a preferred delivery time of 1 days has been set, covering a distance of 700 km. The budget allocated for this order is 15,000, with special requirements noted as \\'Requires refrigeration\\'. The freight mode selected for this shipment is Air, chosen for the following reason: \\'Chose air for speed due to perishable goods\\'.\"'"
            ],
            "application/vnd.google.colaboratory.intrinsic+json": {
              "type": "string"
            }
          },
          "metadata": {},
          "execution_count": 36
        }
      ]
    },
    {
      "cell_type": "markdown",
      "source": [
        "## Saving the Populated Templates (Natural Language Texts)"
      ],
      "metadata": {
        "id": "bDO2V_0P_So1"
      },
      "id": "bDO2V_0P_So1"
    },
    {
      "cell_type": "code",
      "execution_count": 39,
      "id": "0b26a4d3-b3d9-448b-ae5e-f2c8960718cd",
      "metadata": {
        "id": "0b26a4d3-b3d9-448b-ae5e-f2c8960718cd"
      },
      "outputs": [],
      "source": [
        "def save_content_to_txt(paragraphs, txt_filename):\n",
        "    try:\n",
        "        with open(txt_filename, 'w', encoding='utf-8') as file:\n",
        "\n",
        "            for para in paragraphs:\n",
        "                file.write(para + '\\n\\n')  # Double newline for separation\n",
        "\n",
        "        print(f\"All content has been saved as '{txt_filename}'.\\n\")\n",
        "    except Exception as e:\n",
        "        print(f\"Error saving content to text file: {e}\")\n"
      ]
    },
    {
      "cell_type": "code",
      "execution_count": 40,
      "id": "cb501277-4548-4f79-8b1e-fedafcff856f",
      "metadata": {
        "id": "cb501277-4548-4f79-8b1e-fedafcff856f"
      },
      "outputs": [],
      "source": [
        "def save_content_to_pdf(paragraphs, pdf_filename):\n",
        "    try:\n",
        "        pdf = FPDF()\n",
        "        pdf.add_page()\n",
        "        pdf.set_auto_page_break(auto=True, margin=15)\n",
        "        pdf.set_font(\"Arial\", size=12)\n",
        "\n",
        "        # Add each paragraph\n",
        "        for para in paragraphs:\n",
        "            pdf.multi_cell(0, 10, para)\n",
        "            pdf.ln()  # Add a line break between paragraphs\n",
        "\n",
        "        pdf.output(pdf_filename)\n",
        "        print(f\"All content has been saved as '{pdf_filename}'.\\n\")\n",
        "    except Exception as e:\n",
        "        print(f\"Error saving content to PDF: {e}\")\n"
      ]
    },
    {
      "cell_type": "code",
      "execution_count": 42,
      "id": "9ee0ce02-95de-4634-bdb3-63e285b9031a",
      "metadata": {
        "id": "9ee0ce02-95de-4634-bdb3-63e285b9031a",
        "colab": {
          "base_uri": "https://localhost:8080/"
        },
        "outputId": "4eb682ef-571a-479e-dfa1-4964c292522b"
      },
      "outputs": [
        {
          "output_type": "stream",
          "name": "stdout",
          "text": [
            "All content has been saved as 'paragraphs.txt'.\n",
            "\n",
            "All content has been saved as 'paragraphs.pdf'.\n",
            "\n"
          ]
        }
      ],
      "source": [
        "# Save the paragraphs to both text and PDF files\n",
        "save_content_to_txt(df['paragraph'].tolist(), txt_filename='paragraphs.txt')\n",
        "save_content_to_pdf(df['paragraph'].tolist(), pdf_filename='paragraphs.pdf')\n"
      ]
    }
  ],
  "metadata": {
    "kernelspec": {
      "display_name": "attic-proposals",
      "language": "python",
      "name": "attic-proposals"
    },
    "language_info": {
      "codemirror_mode": {
        "name": "ipython",
        "version": 3
      },
      "file_extension": ".py",
      "mimetype": "text/x-python",
      "name": "python",
      "nbconvert_exporter": "python",
      "pygments_lexer": "ipython3",
      "version": "3.11.0"
    },
    "colab": {
      "provenance": []
    }
  },
  "nbformat": 4,
  "nbformat_minor": 5
}