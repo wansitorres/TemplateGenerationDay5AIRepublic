{
  "nbformat": 4,
  "nbformat_minor": 0,
  "metadata": {
    "colab": {
      "provenance": []
    },
    "kernelspec": {
      "name": "python3",
      "display_name": "Python 3"
    },
    "language_info": {
      "name": "python"
    }
  },
  "cells": [
    {
      "cell_type": "code",
      "execution_count": 1,
      "metadata": {
        "colab": {
          "base_uri": "https://localhost:8080/"
        },
        "id": "myqS5jfw5W8y",
        "outputId": "69b6e11e-0829-4760-f2bf-6628b53a07a3"
      },
      "outputs": [
        {
          "output_type": "stream",
          "name": "stdout",
          "text": [
            "Collecting pdfplumber\n",
            "  Downloading pdfplumber-0.11.4-py3-none-any.whl.metadata (41 kB)\n",
            "\u001b[?25l     \u001b[90m━━━━━━━━━━━━━━━━━━━━━━━━━━━━━━━━━━━━━━━━\u001b[0m \u001b[32m0.0/42.0 kB\u001b[0m \u001b[31m?\u001b[0m eta \u001b[36m-:--:--\u001b[0m\r\u001b[2K     \u001b[90m━━━━━━━━━━━━━━━━━━━━━━━━━━━━━━━━━━━━━━━━\u001b[0m \u001b[32m42.0/42.0 kB\u001b[0m \u001b[31m1.6 MB/s\u001b[0m eta \u001b[36m0:00:00\u001b[0m\n",
            "\u001b[?25hCollecting pdfminer.six==20231228 (from pdfplumber)\n",
            "  Downloading pdfminer.six-20231228-py3-none-any.whl.metadata (4.2 kB)\n",
            "Requirement already satisfied: Pillow>=9.1 in /usr/local/lib/python3.10/dist-packages (from pdfplumber) (11.0.0)\n",
            "Collecting pypdfium2>=4.18.0 (from pdfplumber)\n",
            "  Downloading pypdfium2-4.30.0-py3-none-manylinux_2_17_x86_64.manylinux2014_x86_64.whl.metadata (48 kB)\n",
            "\u001b[2K     \u001b[90m━━━━━━━━━━━━━━━━━━━━━━━━━━━━━━━━━━━━━━━━\u001b[0m \u001b[32m48.5/48.5 kB\u001b[0m \u001b[31m3.0 MB/s\u001b[0m eta \u001b[36m0:00:00\u001b[0m\n",
            "\u001b[?25hRequirement already satisfied: charset-normalizer>=2.0.0 in /usr/local/lib/python3.10/dist-packages (from pdfminer.six==20231228->pdfplumber) (3.4.0)\n",
            "Requirement already satisfied: cryptography>=36.0.0 in /usr/local/lib/python3.10/dist-packages (from pdfminer.six==20231228->pdfplumber) (43.0.3)\n",
            "Requirement already satisfied: cffi>=1.12 in /usr/local/lib/python3.10/dist-packages (from cryptography>=36.0.0->pdfminer.six==20231228->pdfplumber) (1.17.1)\n",
            "Requirement already satisfied: pycparser in /usr/local/lib/python3.10/dist-packages (from cffi>=1.12->cryptography>=36.0.0->pdfminer.six==20231228->pdfplumber) (2.22)\n",
            "Downloading pdfplumber-0.11.4-py3-none-any.whl (59 kB)\n",
            "\u001b[2K   \u001b[90m━━━━━━━━━━━━━━━━━━━━━━━━━━━━━━━━━━━━━━━━\u001b[0m \u001b[32m59.2/59.2 kB\u001b[0m \u001b[31m4.7 MB/s\u001b[0m eta \u001b[36m0:00:00\u001b[0m\n",
            "\u001b[?25hDownloading pdfminer.six-20231228-py3-none-any.whl (5.6 MB)\n",
            "\u001b[2K   \u001b[90m━━━━━━━━━━━━━━━━━━━━━━━━━━━━━━━━━━━━━━━━\u001b[0m \u001b[32m5.6/5.6 MB\u001b[0m \u001b[31m50.7 MB/s\u001b[0m eta \u001b[36m0:00:00\u001b[0m\n",
            "\u001b[?25hDownloading pypdfium2-4.30.0-py3-none-manylinux_2_17_x86_64.manylinux2014_x86_64.whl (2.8 MB)\n",
            "\u001b[2K   \u001b[90m━━━━━━━━━━━━━━━━━━━━━━━━━━━━━━━━━━━━━━━━\u001b[0m \u001b[32m2.8/2.8 MB\u001b[0m \u001b[31m72.2 MB/s\u001b[0m eta \u001b[36m0:00:00\u001b[0m\n",
            "\u001b[?25hInstalling collected packages: pypdfium2, pdfminer.six, pdfplumber\n",
            "Successfully installed pdfminer.six-20231228 pdfplumber-0.11.4 pypdfium2-4.30.0\n",
            "Collecting openai==0.28.1\n",
            "  Downloading openai-0.28.1-py3-none-any.whl.metadata (11 kB)\n",
            "Requirement already satisfied: requests>=2.20 in /usr/local/lib/python3.10/dist-packages (from openai==0.28.1) (2.32.3)\n",
            "Requirement already satisfied: tqdm in /usr/local/lib/python3.10/dist-packages (from openai==0.28.1) (4.66.6)\n",
            "Requirement already satisfied: aiohttp in /usr/local/lib/python3.10/dist-packages (from openai==0.28.1) (3.10.10)\n",
            "Requirement already satisfied: charset-normalizer<4,>=2 in /usr/local/lib/python3.10/dist-packages (from requests>=2.20->openai==0.28.1) (3.4.0)\n",
            "Requirement already satisfied: idna<4,>=2.5 in /usr/local/lib/python3.10/dist-packages (from requests>=2.20->openai==0.28.1) (3.10)\n",
            "Requirement already satisfied: urllib3<3,>=1.21.1 in /usr/local/lib/python3.10/dist-packages (from requests>=2.20->openai==0.28.1) (2.2.3)\n",
            "Requirement already satisfied: certifi>=2017.4.17 in /usr/local/lib/python3.10/dist-packages (from requests>=2.20->openai==0.28.1) (2024.8.30)\n",
            "Requirement already satisfied: aiohappyeyeballs>=2.3.0 in /usr/local/lib/python3.10/dist-packages (from aiohttp->openai==0.28.1) (2.4.3)\n",
            "Requirement already satisfied: aiosignal>=1.1.2 in /usr/local/lib/python3.10/dist-packages (from aiohttp->openai==0.28.1) (1.3.1)\n",
            "Requirement already satisfied: attrs>=17.3.0 in /usr/local/lib/python3.10/dist-packages (from aiohttp->openai==0.28.1) (24.2.0)\n",
            "Requirement already satisfied: frozenlist>=1.1.1 in /usr/local/lib/python3.10/dist-packages (from aiohttp->openai==0.28.1) (1.5.0)\n",
            "Requirement already satisfied: multidict<7.0,>=4.5 in /usr/local/lib/python3.10/dist-packages (from aiohttp->openai==0.28.1) (6.1.0)\n",
            "Requirement already satisfied: yarl<2.0,>=1.12.0 in /usr/local/lib/python3.10/dist-packages (from aiohttp->openai==0.28.1) (1.17.1)\n",
            "Requirement already satisfied: async-timeout<5.0,>=4.0 in /usr/local/lib/python3.10/dist-packages (from aiohttp->openai==0.28.1) (4.0.3)\n",
            "Requirement already satisfied: typing-extensions>=4.1.0 in /usr/local/lib/python3.10/dist-packages (from multidict<7.0,>=4.5->aiohttp->openai==0.28.1) (4.12.2)\n",
            "Requirement already satisfied: propcache>=0.2.0 in /usr/local/lib/python3.10/dist-packages (from yarl<2.0,>=1.12.0->aiohttp->openai==0.28.1) (0.2.0)\n",
            "Downloading openai-0.28.1-py3-none-any.whl (76 kB)\n",
            "\u001b[2K   \u001b[90m━━━━━━━━━━━━━━━━━━━━━━━━━━━━━━━━━━━━━━━━\u001b[0m \u001b[32m77.0/77.0 kB\u001b[0m \u001b[31m2.1 MB/s\u001b[0m eta \u001b[36m0:00:00\u001b[0m\n",
            "\u001b[?25hInstalling collected packages: openai\n",
            "  Attempting uninstall: openai\n",
            "    Found existing installation: openai 1.54.4\n",
            "    Uninstalling openai-1.54.4:\n",
            "      Successfully uninstalled openai-1.54.4\n",
            "Successfully installed openai-0.28.1\n",
            "Collecting tiktoken==0.6.0\n",
            "  Downloading tiktoken-0.6.0-cp310-cp310-manylinux_2_17_x86_64.manylinux2014_x86_64.whl.metadata (6.6 kB)\n",
            "Requirement already satisfied: regex>=2022.1.18 in /usr/local/lib/python3.10/dist-packages (from tiktoken==0.6.0) (2024.9.11)\n",
            "Requirement already satisfied: requests>=2.26.0 in /usr/local/lib/python3.10/dist-packages (from tiktoken==0.6.0) (2.32.3)\n",
            "Requirement already satisfied: charset-normalizer<4,>=2 in /usr/local/lib/python3.10/dist-packages (from requests>=2.26.0->tiktoken==0.6.0) (3.4.0)\n",
            "Requirement already satisfied: idna<4,>=2.5 in /usr/local/lib/python3.10/dist-packages (from requests>=2.26.0->tiktoken==0.6.0) (3.10)\n",
            "Requirement already satisfied: urllib3<3,>=1.21.1 in /usr/local/lib/python3.10/dist-packages (from requests>=2.26.0->tiktoken==0.6.0) (2.2.3)\n",
            "Requirement already satisfied: certifi>=2017.4.17 in /usr/local/lib/python3.10/dist-packages (from requests>=2.26.0->tiktoken==0.6.0) (2024.8.30)\n",
            "Downloading tiktoken-0.6.0-cp310-cp310-manylinux_2_17_x86_64.manylinux2014_x86_64.whl (1.8 MB)\n",
            "\u001b[2K   \u001b[90m━━━━━━━━━━━━━━━━━━━━━━━━━━━━━━━━━━━━━━━━\u001b[0m \u001b[32m1.8/1.8 MB\u001b[0m \u001b[31m18.1 MB/s\u001b[0m eta \u001b[36m0:00:00\u001b[0m\n",
            "\u001b[?25hInstalling collected packages: tiktoken\n",
            "Successfully installed tiktoken-0.6.0\n",
            "Collecting langchain==0.1.20\n",
            "  Downloading langchain-0.1.20-py3-none-any.whl.metadata (13 kB)\n",
            "Requirement already satisfied: PyYAML>=5.3 in /usr/local/lib/python3.10/dist-packages (from langchain==0.1.20) (6.0.2)\n",
            "Requirement already satisfied: SQLAlchemy<3,>=1.4 in /usr/local/lib/python3.10/dist-packages (from langchain==0.1.20) (2.0.36)\n",
            "Requirement already satisfied: aiohttp<4.0.0,>=3.8.3 in /usr/local/lib/python3.10/dist-packages (from langchain==0.1.20) (3.10.10)\n",
            "Requirement already satisfied: async-timeout<5.0.0,>=4.0.0 in /usr/local/lib/python3.10/dist-packages (from langchain==0.1.20) (4.0.3)\n",
            "Collecting dataclasses-json<0.7,>=0.5.7 (from langchain==0.1.20)\n",
            "  Downloading dataclasses_json-0.6.7-py3-none-any.whl.metadata (25 kB)\n",
            "Collecting langchain-community<0.1,>=0.0.38 (from langchain==0.1.20)\n",
            "  Downloading langchain_community-0.0.38-py3-none-any.whl.metadata (8.7 kB)\n",
            "Collecting langchain-core<0.2.0,>=0.1.52 (from langchain==0.1.20)\n",
            "  Downloading langchain_core-0.1.53-py3-none-any.whl.metadata (5.9 kB)\n",
            "Collecting langchain-text-splitters<0.1,>=0.0.1 (from langchain==0.1.20)\n",
            "  Downloading langchain_text_splitters-0.0.2-py3-none-any.whl.metadata (2.2 kB)\n",
            "Requirement already satisfied: langsmith<0.2.0,>=0.1.17 in /usr/local/lib/python3.10/dist-packages (from langchain==0.1.20) (0.1.142)\n",
            "Requirement already satisfied: numpy<2,>=1 in /usr/local/lib/python3.10/dist-packages (from langchain==0.1.20) (1.26.4)\n",
            "Requirement already satisfied: pydantic<3,>=1 in /usr/local/lib/python3.10/dist-packages (from langchain==0.1.20) (2.9.2)\n",
            "Requirement already satisfied: requests<3,>=2 in /usr/local/lib/python3.10/dist-packages (from langchain==0.1.20) (2.32.3)\n",
            "Collecting tenacity<9.0.0,>=8.1.0 (from langchain==0.1.20)\n",
            "  Downloading tenacity-8.5.0-py3-none-any.whl.metadata (1.2 kB)\n",
            "Requirement already satisfied: aiohappyeyeballs>=2.3.0 in /usr/local/lib/python3.10/dist-packages (from aiohttp<4.0.0,>=3.8.3->langchain==0.1.20) (2.4.3)\n",
            "Requirement already satisfied: aiosignal>=1.1.2 in /usr/local/lib/python3.10/dist-packages (from aiohttp<4.0.0,>=3.8.3->langchain==0.1.20) (1.3.1)\n",
            "Requirement already satisfied: attrs>=17.3.0 in /usr/local/lib/python3.10/dist-packages (from aiohttp<4.0.0,>=3.8.3->langchain==0.1.20) (24.2.0)\n",
            "Requirement already satisfied: frozenlist>=1.1.1 in /usr/local/lib/python3.10/dist-packages (from aiohttp<4.0.0,>=3.8.3->langchain==0.1.20) (1.5.0)\n",
            "Requirement already satisfied: multidict<7.0,>=4.5 in /usr/local/lib/python3.10/dist-packages (from aiohttp<4.0.0,>=3.8.3->langchain==0.1.20) (6.1.0)\n",
            "Requirement already satisfied: yarl<2.0,>=1.12.0 in /usr/local/lib/python3.10/dist-packages (from aiohttp<4.0.0,>=3.8.3->langchain==0.1.20) (1.17.1)\n",
            "Collecting marshmallow<4.0.0,>=3.18.0 (from dataclasses-json<0.7,>=0.5.7->langchain==0.1.20)\n",
            "  Downloading marshmallow-3.23.1-py3-none-any.whl.metadata (7.5 kB)\n",
            "Collecting typing-inspect<1,>=0.4.0 (from dataclasses-json<0.7,>=0.5.7->langchain==0.1.20)\n",
            "  Downloading typing_inspect-0.9.0-py3-none-any.whl.metadata (1.5 kB)\n",
            "Requirement already satisfied: jsonpatch<2.0,>=1.33 in /usr/local/lib/python3.10/dist-packages (from langchain-core<0.2.0,>=0.1.52->langchain==0.1.20) (1.33)\n",
            "Collecting packaging<24.0,>=23.2 (from langchain-core<0.2.0,>=0.1.52->langchain==0.1.20)\n",
            "  Downloading packaging-23.2-py3-none-any.whl.metadata (3.2 kB)\n",
            "Requirement already satisfied: httpx<1,>=0.23.0 in /usr/local/lib/python3.10/dist-packages (from langsmith<0.2.0,>=0.1.17->langchain==0.1.20) (0.27.2)\n",
            "Requirement already satisfied: orjson<4.0.0,>=3.9.14 in /usr/local/lib/python3.10/dist-packages (from langsmith<0.2.0,>=0.1.17->langchain==0.1.20) (3.10.11)\n",
            "Requirement already satisfied: requests-toolbelt<2.0.0,>=1.0.0 in /usr/local/lib/python3.10/dist-packages (from langsmith<0.2.0,>=0.1.17->langchain==0.1.20) (1.0.0)\n",
            "Requirement already satisfied: annotated-types>=0.6.0 in /usr/local/lib/python3.10/dist-packages (from pydantic<3,>=1->langchain==0.1.20) (0.7.0)\n",
            "Requirement already satisfied: pydantic-core==2.23.4 in /usr/local/lib/python3.10/dist-packages (from pydantic<3,>=1->langchain==0.1.20) (2.23.4)\n",
            "Requirement already satisfied: typing-extensions>=4.6.1 in /usr/local/lib/python3.10/dist-packages (from pydantic<3,>=1->langchain==0.1.20) (4.12.2)\n",
            "Requirement already satisfied: charset-normalizer<4,>=2 in /usr/local/lib/python3.10/dist-packages (from requests<3,>=2->langchain==0.1.20) (3.4.0)\n",
            "Requirement already satisfied: idna<4,>=2.5 in /usr/local/lib/python3.10/dist-packages (from requests<3,>=2->langchain==0.1.20) (3.10)\n",
            "Requirement already satisfied: urllib3<3,>=1.21.1 in /usr/local/lib/python3.10/dist-packages (from requests<3,>=2->langchain==0.1.20) (2.2.3)\n",
            "Requirement already satisfied: certifi>=2017.4.17 in /usr/local/lib/python3.10/dist-packages (from requests<3,>=2->langchain==0.1.20) (2024.8.30)\n",
            "Requirement already satisfied: greenlet!=0.4.17 in /usr/local/lib/python3.10/dist-packages (from SQLAlchemy<3,>=1.4->langchain==0.1.20) (3.1.1)\n",
            "Requirement already satisfied: anyio in /usr/local/lib/python3.10/dist-packages (from httpx<1,>=0.23.0->langsmith<0.2.0,>=0.1.17->langchain==0.1.20) (3.7.1)\n",
            "Requirement already satisfied: httpcore==1.* in /usr/local/lib/python3.10/dist-packages (from httpx<1,>=0.23.0->langsmith<0.2.0,>=0.1.17->langchain==0.1.20) (1.0.6)\n",
            "Requirement already satisfied: sniffio in /usr/local/lib/python3.10/dist-packages (from httpx<1,>=0.23.0->langsmith<0.2.0,>=0.1.17->langchain==0.1.20) (1.3.1)\n",
            "Requirement already satisfied: h11<0.15,>=0.13 in /usr/local/lib/python3.10/dist-packages (from httpcore==1.*->httpx<1,>=0.23.0->langsmith<0.2.0,>=0.1.17->langchain==0.1.20) (0.14.0)\n",
            "Requirement already satisfied: jsonpointer>=1.9 in /usr/local/lib/python3.10/dist-packages (from jsonpatch<2.0,>=1.33->langchain-core<0.2.0,>=0.1.52->langchain==0.1.20) (3.0.0)\n",
            "Collecting mypy-extensions>=0.3.0 (from typing-inspect<1,>=0.4.0->dataclasses-json<0.7,>=0.5.7->langchain==0.1.20)\n",
            "  Downloading mypy_extensions-1.0.0-py3-none-any.whl.metadata (1.1 kB)\n",
            "Requirement already satisfied: propcache>=0.2.0 in /usr/local/lib/python3.10/dist-packages (from yarl<2.0,>=1.12.0->aiohttp<4.0.0,>=3.8.3->langchain==0.1.20) (0.2.0)\n",
            "Requirement already satisfied: exceptiongroup in /usr/local/lib/python3.10/dist-packages (from anyio->httpx<1,>=0.23.0->langsmith<0.2.0,>=0.1.17->langchain==0.1.20) (1.2.2)\n",
            "Downloading langchain-0.1.20-py3-none-any.whl (1.0 MB)\n",
            "\u001b[2K   \u001b[90m━━━━━━━━━━━━━━━━━━━━━━━━━━━━━━━━━━━━━━━━\u001b[0m \u001b[32m1.0/1.0 MB\u001b[0m \u001b[31m15.4 MB/s\u001b[0m eta \u001b[36m0:00:00\u001b[0m\n",
            "\u001b[?25hDownloading dataclasses_json-0.6.7-py3-none-any.whl (28 kB)\n",
            "Downloading langchain_community-0.0.38-py3-none-any.whl (2.0 MB)\n",
            "\u001b[2K   \u001b[90m━━━━━━━━━━━━━━━━━━━━━━━━━━━━━━━━━━━━━━━━\u001b[0m \u001b[32m2.0/2.0 MB\u001b[0m \u001b[31m51.9 MB/s\u001b[0m eta \u001b[36m0:00:00\u001b[0m\n",
            "\u001b[?25hDownloading langchain_core-0.1.53-py3-none-any.whl (303 kB)\n",
            "\u001b[2K   \u001b[90m━━━━━━━━━━━━━━━━━━━━━━━━━━━━━━━━━━━━━━━━\u001b[0m \u001b[32m303.1/303.1 kB\u001b[0m \u001b[31m21.3 MB/s\u001b[0m eta \u001b[36m0:00:00\u001b[0m\n",
            "\u001b[?25hDownloading langchain_text_splitters-0.0.2-py3-none-any.whl (23 kB)\n",
            "Downloading tenacity-8.5.0-py3-none-any.whl (28 kB)\n",
            "Downloading marshmallow-3.23.1-py3-none-any.whl (49 kB)\n",
            "\u001b[2K   \u001b[90m━━━━━━━━━━━━━━━━━━━━━━━━━━━━━━━━━━━━━━━━\u001b[0m \u001b[32m49.5/49.5 kB\u001b[0m \u001b[31m4.0 MB/s\u001b[0m eta \u001b[36m0:00:00\u001b[0m\n",
            "\u001b[?25hDownloading packaging-23.2-py3-none-any.whl (53 kB)\n",
            "\u001b[2K   \u001b[90m━━━━━━━━━━━━━━━━━━━━━━━━━━━━━━━━━━━━━━━━\u001b[0m \u001b[32m53.0/53.0 kB\u001b[0m \u001b[31m3.9 MB/s\u001b[0m eta \u001b[36m0:00:00\u001b[0m\n",
            "\u001b[?25hDownloading typing_inspect-0.9.0-py3-none-any.whl (8.8 kB)\n",
            "Downloading mypy_extensions-1.0.0-py3-none-any.whl (4.7 kB)\n",
            "Installing collected packages: tenacity, packaging, mypy-extensions, typing-inspect, marshmallow, dataclasses-json, langchain-core, langchain-text-splitters, langchain-community, langchain\n",
            "  Attempting uninstall: tenacity\n",
            "    Found existing installation: tenacity 9.0.0\n",
            "    Uninstalling tenacity-9.0.0:\n",
            "      Successfully uninstalled tenacity-9.0.0\n",
            "  Attempting uninstall: packaging\n",
            "    Found existing installation: packaging 24.2\n",
            "    Uninstalling packaging-24.2:\n",
            "      Successfully uninstalled packaging-24.2\n",
            "  Attempting uninstall: langchain-core\n",
            "    Found existing installation: langchain-core 0.3.17\n",
            "    Uninstalling langchain-core-0.3.17:\n",
            "      Successfully uninstalled langchain-core-0.3.17\n",
            "  Attempting uninstall: langchain-text-splitters\n",
            "    Found existing installation: langchain-text-splitters 0.3.2\n",
            "    Uninstalling langchain-text-splitters-0.3.2:\n",
            "      Successfully uninstalled langchain-text-splitters-0.3.2\n",
            "  Attempting uninstall: langchain\n",
            "    Found existing installation: langchain 0.3.7\n",
            "    Uninstalling langchain-0.3.7:\n",
            "      Successfully uninstalled langchain-0.3.7\n",
            "Successfully installed dataclasses-json-0.6.7 langchain-0.1.20 langchain-community-0.0.38 langchain-core-0.1.53 langchain-text-splitters-0.0.2 marshmallow-3.23.1 mypy-extensions-1.0.0 packaging-23.2 tenacity-8.5.0 typing-inspect-0.9.0\n",
            "Collecting chromadb==0.5.0\n",
            "  Downloading chromadb-0.5.0-py3-none-any.whl.metadata (7.3 kB)\n",
            "Collecting build>=1.0.3 (from chromadb==0.5.0)\n",
            "  Downloading build-1.2.2.post1-py3-none-any.whl.metadata (6.5 kB)\n",
            "Requirement already satisfied: requests>=2.28 in /usr/local/lib/python3.10/dist-packages (from chromadb==0.5.0) (2.32.3)\n",
            "Requirement already satisfied: pydantic>=1.9 in /usr/local/lib/python3.10/dist-packages (from chromadb==0.5.0) (2.9.2)\n",
            "Collecting chroma-hnswlib==0.7.3 (from chromadb==0.5.0)\n",
            "  Downloading chroma_hnswlib-0.7.3-cp310-cp310-manylinux_2_17_x86_64.manylinux2014_x86_64.whl.metadata (252 bytes)\n",
            "Collecting fastapi>=0.95.2 (from chromadb==0.5.0)\n",
            "  Downloading fastapi-0.115.5-py3-none-any.whl.metadata (27 kB)\n",
            "Collecting uvicorn>=0.18.3 (from uvicorn[standard]>=0.18.3->chromadb==0.5.0)\n",
            "  Downloading uvicorn-0.32.0-py3-none-any.whl.metadata (6.6 kB)\n",
            "Requirement already satisfied: numpy>=1.22.5 in /usr/local/lib/python3.10/dist-packages (from chromadb==0.5.0) (1.26.4)\n",
            "Collecting posthog>=2.4.0 (from chromadb==0.5.0)\n",
            "  Downloading posthog-3.7.0-py2.py3-none-any.whl.metadata (2.0 kB)\n",
            "Requirement already satisfied: typing-extensions>=4.5.0 in /usr/local/lib/python3.10/dist-packages (from chromadb==0.5.0) (4.12.2)\n",
            "Collecting onnxruntime>=1.14.1 (from chromadb==0.5.0)\n",
            "  Downloading onnxruntime-1.20.0-cp310-cp310-manylinux_2_27_x86_64.manylinux_2_28_x86_64.whl.metadata (4.4 kB)\n",
            "Requirement already satisfied: opentelemetry-api>=1.2.0 in /usr/local/lib/python3.10/dist-packages (from chromadb==0.5.0) (1.28.1)\n",
            "Collecting opentelemetry-exporter-otlp-proto-grpc>=1.2.0 (from chromadb==0.5.0)\n",
            "  Downloading opentelemetry_exporter_otlp_proto_grpc-1.28.1-py3-none-any.whl.metadata (2.3 kB)\n",
            "Collecting opentelemetry-instrumentation-fastapi>=0.41b0 (from chromadb==0.5.0)\n",
            "  Downloading opentelemetry_instrumentation_fastapi-0.49b1-py3-none-any.whl.metadata (2.1 kB)\n",
            "Requirement already satisfied: opentelemetry-sdk>=1.2.0 in /usr/local/lib/python3.10/dist-packages (from chromadb==0.5.0) (1.28.1)\n",
            "Requirement already satisfied: tokenizers>=0.13.2 in /usr/local/lib/python3.10/dist-packages (from chromadb==0.5.0) (0.20.3)\n",
            "Collecting pypika>=0.48.9 (from chromadb==0.5.0)\n",
            "  Downloading PyPika-0.48.9.tar.gz (67 kB)\n",
            "\u001b[2K     \u001b[90m━━━━━━━━━━━━━━━━━━━━━━━━━━━━━━━━━━━━━━━━\u001b[0m \u001b[32m67.3/67.3 kB\u001b[0m \u001b[31m3.1 MB/s\u001b[0m eta \u001b[36m0:00:00\u001b[0m\n",
            "\u001b[?25h  Installing build dependencies ... \u001b[?25l\u001b[?25hdone\n",
            "  Getting requirements to build wheel ... \u001b[?25l\u001b[?25hdone\n",
            "  Preparing metadata (pyproject.toml) ... \u001b[?25l\u001b[?25hdone\n",
            "Requirement already satisfied: tqdm>=4.65.0 in /usr/local/lib/python3.10/dist-packages (from chromadb==0.5.0) (4.66.6)\n",
            "Collecting overrides>=7.3.1 (from chromadb==0.5.0)\n",
            "  Downloading overrides-7.7.0-py3-none-any.whl.metadata (5.8 kB)\n",
            "Requirement already satisfied: importlib-resources in /usr/local/lib/python3.10/dist-packages (from chromadb==0.5.0) (6.4.5)\n",
            "Requirement already satisfied: grpcio>=1.58.0 in /usr/local/lib/python3.10/dist-packages (from chromadb==0.5.0) (1.67.1)\n",
            "Collecting bcrypt>=4.0.1 (from chromadb==0.5.0)\n",
            "  Downloading bcrypt-4.2.0-cp39-abi3-manylinux_2_28_x86_64.whl.metadata (9.6 kB)\n",
            "Requirement already satisfied: typer>=0.9.0 in /usr/local/lib/python3.10/dist-packages (from chromadb==0.5.0) (0.13.0)\n",
            "Collecting kubernetes>=28.1.0 (from chromadb==0.5.0)\n",
            "  Downloading kubernetes-31.0.0-py2.py3-none-any.whl.metadata (1.5 kB)\n",
            "Requirement already satisfied: tenacity>=8.2.3 in /usr/local/lib/python3.10/dist-packages (from chromadb==0.5.0) (8.5.0)\n",
            "Requirement already satisfied: PyYAML>=6.0.0 in /usr/local/lib/python3.10/dist-packages (from chromadb==0.5.0) (6.0.2)\n",
            "Collecting mmh3>=4.0.1 (from chromadb==0.5.0)\n",
            "  Downloading mmh3-5.0.1-cp310-cp310-manylinux_2_5_x86_64.manylinux1_x86_64.manylinux_2_17_x86_64.manylinux2014_x86_64.whl.metadata (14 kB)\n",
            "Requirement already satisfied: orjson>=3.9.12 in /usr/local/lib/python3.10/dist-packages (from chromadb==0.5.0) (3.10.11)\n",
            "Requirement already satisfied: packaging>=19.1 in /usr/local/lib/python3.10/dist-packages (from build>=1.0.3->chromadb==0.5.0) (23.2)\n",
            "Collecting pyproject_hooks (from build>=1.0.3->chromadb==0.5.0)\n",
            "  Downloading pyproject_hooks-1.2.0-py3-none-any.whl.metadata (1.3 kB)\n",
            "Requirement already satisfied: tomli>=1.1.0 in /usr/local/lib/python3.10/dist-packages (from build>=1.0.3->chromadb==0.5.0) (2.1.0)\n",
            "Collecting starlette<0.42.0,>=0.40.0 (from fastapi>=0.95.2->chromadb==0.5.0)\n",
            "  Downloading starlette-0.41.2-py3-none-any.whl.metadata (6.0 kB)\n",
            "Requirement already satisfied: certifi>=14.05.14 in /usr/local/lib/python3.10/dist-packages (from kubernetes>=28.1.0->chromadb==0.5.0) (2024.8.30)\n",
            "Requirement already satisfied: six>=1.9.0 in /usr/local/lib/python3.10/dist-packages (from kubernetes>=28.1.0->chromadb==0.5.0) (1.16.0)\n",
            "Requirement already satisfied: python-dateutil>=2.5.3 in /usr/local/lib/python3.10/dist-packages (from kubernetes>=28.1.0->chromadb==0.5.0) (2.8.2)\n",
            "Requirement already satisfied: google-auth>=1.0.1 in /usr/local/lib/python3.10/dist-packages (from kubernetes>=28.1.0->chromadb==0.5.0) (2.27.0)\n",
            "Requirement already satisfied: websocket-client!=0.40.0,!=0.41.*,!=0.42.*,>=0.32.0 in /usr/local/lib/python3.10/dist-packages (from kubernetes>=28.1.0->chromadb==0.5.0) (1.8.0)\n",
            "Requirement already satisfied: requests-oauthlib in /usr/local/lib/python3.10/dist-packages (from kubernetes>=28.1.0->chromadb==0.5.0) (1.3.1)\n",
            "Requirement already satisfied: oauthlib>=3.2.2 in /usr/local/lib/python3.10/dist-packages (from kubernetes>=28.1.0->chromadb==0.5.0) (3.2.2)\n",
            "Requirement already satisfied: urllib3>=1.24.2 in /usr/local/lib/python3.10/dist-packages (from kubernetes>=28.1.0->chromadb==0.5.0) (2.2.3)\n",
            "Collecting durationpy>=0.7 (from kubernetes>=28.1.0->chromadb==0.5.0)\n",
            "  Downloading durationpy-0.9-py3-none-any.whl.metadata (338 bytes)\n",
            "Collecting coloredlogs (from onnxruntime>=1.14.1->chromadb==0.5.0)\n",
            "  Downloading coloredlogs-15.0.1-py2.py3-none-any.whl.metadata (12 kB)\n",
            "Requirement already satisfied: flatbuffers in /usr/local/lib/python3.10/dist-packages (from onnxruntime>=1.14.1->chromadb==0.5.0) (24.3.25)\n",
            "Requirement already satisfied: protobuf in /usr/local/lib/python3.10/dist-packages (from onnxruntime>=1.14.1->chromadb==0.5.0) (4.25.5)\n",
            "Requirement already satisfied: sympy in /usr/local/lib/python3.10/dist-packages (from onnxruntime>=1.14.1->chromadb==0.5.0) (1.13.1)\n",
            "Requirement already satisfied: deprecated>=1.2.6 in /usr/local/lib/python3.10/dist-packages (from opentelemetry-api>=1.2.0->chromadb==0.5.0) (1.2.14)\n",
            "Requirement already satisfied: importlib-metadata<=8.5.0,>=6.0 in /usr/local/lib/python3.10/dist-packages (from opentelemetry-api>=1.2.0->chromadb==0.5.0) (8.5.0)\n",
            "Requirement already satisfied: googleapis-common-protos~=1.52 in /usr/local/lib/python3.10/dist-packages (from opentelemetry-exporter-otlp-proto-grpc>=1.2.0->chromadb==0.5.0) (1.66.0)\n",
            "Collecting opentelemetry-exporter-otlp-proto-common==1.28.1 (from opentelemetry-exporter-otlp-proto-grpc>=1.2.0->chromadb==0.5.0)\n",
            "  Downloading opentelemetry_exporter_otlp_proto_common-1.28.1-py3-none-any.whl.metadata (1.8 kB)\n",
            "Collecting opentelemetry-proto==1.28.1 (from opentelemetry-exporter-otlp-proto-grpc>=1.2.0->chromadb==0.5.0)\n",
            "  Downloading opentelemetry_proto-1.28.1-py3-none-any.whl.metadata (2.3 kB)\n",
            "Collecting protobuf (from onnxruntime>=1.14.1->chromadb==0.5.0)\n",
            "  Downloading protobuf-5.28.3-cp38-abi3-manylinux2014_x86_64.whl.metadata (592 bytes)\n",
            "Collecting opentelemetry-instrumentation-asgi==0.49b1 (from opentelemetry-instrumentation-fastapi>=0.41b0->chromadb==0.5.0)\n",
            "  Downloading opentelemetry_instrumentation_asgi-0.49b1-py3-none-any.whl.metadata (2.0 kB)\n",
            "Collecting opentelemetry-instrumentation==0.49b1 (from opentelemetry-instrumentation-fastapi>=0.41b0->chromadb==0.5.0)\n",
            "  Downloading opentelemetry_instrumentation-0.49b1-py3-none-any.whl.metadata (6.2 kB)\n",
            "Requirement already satisfied: opentelemetry-semantic-conventions==0.49b1 in /usr/local/lib/python3.10/dist-packages (from opentelemetry-instrumentation-fastapi>=0.41b0->chromadb==0.5.0) (0.49b1)\n",
            "Collecting opentelemetry-util-http==0.49b1 (from opentelemetry-instrumentation-fastapi>=0.41b0->chromadb==0.5.0)\n",
            "  Downloading opentelemetry_util_http-0.49b1-py3-none-any.whl.metadata (2.5 kB)\n",
            "Requirement already satisfied: wrapt<2.0.0,>=1.0.0 in /usr/local/lib/python3.10/dist-packages (from opentelemetry-instrumentation==0.49b1->opentelemetry-instrumentation-fastapi>=0.41b0->chromadb==0.5.0) (1.16.0)\n",
            "Collecting asgiref~=3.0 (from opentelemetry-instrumentation-asgi==0.49b1->opentelemetry-instrumentation-fastapi>=0.41b0->chromadb==0.5.0)\n",
            "  Downloading asgiref-3.8.1-py3-none-any.whl.metadata (9.3 kB)\n",
            "Collecting monotonic>=1.5 (from posthog>=2.4.0->chromadb==0.5.0)\n",
            "  Downloading monotonic-1.6-py2.py3-none-any.whl.metadata (1.5 kB)\n",
            "Collecting backoff>=1.10.0 (from posthog>=2.4.0->chromadb==0.5.0)\n",
            "  Downloading backoff-2.2.1-py3-none-any.whl.metadata (14 kB)\n",
            "Requirement already satisfied: annotated-types>=0.6.0 in /usr/local/lib/python3.10/dist-packages (from pydantic>=1.9->chromadb==0.5.0) (0.7.0)\n",
            "Requirement already satisfied: pydantic-core==2.23.4 in /usr/local/lib/python3.10/dist-packages (from pydantic>=1.9->chromadb==0.5.0) (2.23.4)\n",
            "Requirement already satisfied: charset-normalizer<4,>=2 in /usr/local/lib/python3.10/dist-packages (from requests>=2.28->chromadb==0.5.0) (3.4.0)\n",
            "Requirement already satisfied: idna<4,>=2.5 in /usr/local/lib/python3.10/dist-packages (from requests>=2.28->chromadb==0.5.0) (3.10)\n",
            "Requirement already satisfied: huggingface-hub<1.0,>=0.16.4 in /usr/local/lib/python3.10/dist-packages (from tokenizers>=0.13.2->chromadb==0.5.0) (0.26.2)\n",
            "Requirement already satisfied: click>=8.0.0 in /usr/local/lib/python3.10/dist-packages (from typer>=0.9.0->chromadb==0.5.0) (8.1.7)\n",
            "Requirement already satisfied: shellingham>=1.3.0 in /usr/local/lib/python3.10/dist-packages (from typer>=0.9.0->chromadb==0.5.0) (1.5.4)\n",
            "Requirement already satisfied: rich>=10.11.0 in /usr/local/lib/python3.10/dist-packages (from typer>=0.9.0->chromadb==0.5.0) (13.9.4)\n",
            "Requirement already satisfied: h11>=0.8 in /usr/local/lib/python3.10/dist-packages (from uvicorn>=0.18.3->uvicorn[standard]>=0.18.3->chromadb==0.5.0) (0.14.0)\n",
            "Collecting httptools>=0.5.0 (from uvicorn[standard]>=0.18.3->chromadb==0.5.0)\n",
            "  Downloading httptools-0.6.4-cp310-cp310-manylinux_2_5_x86_64.manylinux1_x86_64.manylinux_2_17_x86_64.manylinux2014_x86_64.whl.metadata (3.6 kB)\n",
            "Collecting python-dotenv>=0.13 (from uvicorn[standard]>=0.18.3->chromadb==0.5.0)\n",
            "  Downloading python_dotenv-1.0.1-py3-none-any.whl.metadata (23 kB)\n",
            "Collecting uvloop!=0.15.0,!=0.15.1,>=0.14.0 (from uvicorn[standard]>=0.18.3->chromadb==0.5.0)\n",
            "  Downloading uvloop-0.21.0-cp310-cp310-manylinux_2_17_x86_64.manylinux2014_x86_64.whl.metadata (4.9 kB)\n",
            "Collecting watchfiles>=0.13 (from uvicorn[standard]>=0.18.3->chromadb==0.5.0)\n",
            "  Downloading watchfiles-0.24.0-cp310-cp310-manylinux_2_17_x86_64.manylinux2014_x86_64.whl.metadata (4.9 kB)\n",
            "Collecting websockets>=10.4 (from uvicorn[standard]>=0.18.3->chromadb==0.5.0)\n",
            "  Downloading websockets-14.1-cp310-cp310-manylinux_2_5_x86_64.manylinux1_x86_64.manylinux_2_17_x86_64.manylinux2014_x86_64.whl.metadata (6.7 kB)\n",
            "Requirement already satisfied: cachetools<6.0,>=2.0.0 in /usr/local/lib/python3.10/dist-packages (from google-auth>=1.0.1->kubernetes>=28.1.0->chromadb==0.5.0) (5.5.0)\n",
            "Requirement already satisfied: pyasn1-modules>=0.2.1 in /usr/local/lib/python3.10/dist-packages (from google-auth>=1.0.1->kubernetes>=28.1.0->chromadb==0.5.0) (0.4.1)\n",
            "Requirement already satisfied: rsa<5,>=3.1.4 in /usr/local/lib/python3.10/dist-packages (from google-auth>=1.0.1->kubernetes>=28.1.0->chromadb==0.5.0) (4.9)\n",
            "Requirement already satisfied: filelock in /usr/local/lib/python3.10/dist-packages (from huggingface-hub<1.0,>=0.16.4->tokenizers>=0.13.2->chromadb==0.5.0) (3.16.1)\n",
            "Requirement already satisfied: fsspec>=2023.5.0 in /usr/local/lib/python3.10/dist-packages (from huggingface-hub<1.0,>=0.16.4->tokenizers>=0.13.2->chromadb==0.5.0) (2024.10.0)\n",
            "Requirement already satisfied: zipp>=3.20 in /usr/local/lib/python3.10/dist-packages (from importlib-metadata<=8.5.0,>=6.0->opentelemetry-api>=1.2.0->chromadb==0.5.0) (3.21.0)\n",
            "Requirement already satisfied: markdown-it-py>=2.2.0 in /usr/local/lib/python3.10/dist-packages (from rich>=10.11.0->typer>=0.9.0->chromadb==0.5.0) (3.0.0)\n",
            "Requirement already satisfied: pygments<3.0.0,>=2.13.0 in /usr/local/lib/python3.10/dist-packages (from rich>=10.11.0->typer>=0.9.0->chromadb==0.5.0) (2.18.0)\n",
            "Requirement already satisfied: anyio<5,>=3.4.0 in /usr/local/lib/python3.10/dist-packages (from starlette<0.42.0,>=0.40.0->fastapi>=0.95.2->chromadb==0.5.0) (3.7.1)\n",
            "Collecting humanfriendly>=9.1 (from coloredlogs->onnxruntime>=1.14.1->chromadb==0.5.0)\n",
            "  Downloading humanfriendly-10.0-py2.py3-none-any.whl.metadata (9.2 kB)\n",
            "Requirement already satisfied: mpmath<1.4,>=1.1.0 in /usr/local/lib/python3.10/dist-packages (from sympy->onnxruntime>=1.14.1->chromadb==0.5.0) (1.3.0)\n",
            "Requirement already satisfied: sniffio>=1.1 in /usr/local/lib/python3.10/dist-packages (from anyio<5,>=3.4.0->starlette<0.42.0,>=0.40.0->fastapi>=0.95.2->chromadb==0.5.0) (1.3.1)\n",
            "Requirement already satisfied: exceptiongroup in /usr/local/lib/python3.10/dist-packages (from anyio<5,>=3.4.0->starlette<0.42.0,>=0.40.0->fastapi>=0.95.2->chromadb==0.5.0) (1.2.2)\n",
            "Requirement already satisfied: mdurl~=0.1 in /usr/local/lib/python3.10/dist-packages (from markdown-it-py>=2.2.0->rich>=10.11.0->typer>=0.9.0->chromadb==0.5.0) (0.1.2)\n",
            "Requirement already satisfied: pyasn1<0.7.0,>=0.4.6 in /usr/local/lib/python3.10/dist-packages (from pyasn1-modules>=0.2.1->google-auth>=1.0.1->kubernetes>=28.1.0->chromadb==0.5.0) (0.6.1)\n",
            "Downloading chromadb-0.5.0-py3-none-any.whl (526 kB)\n",
            "\u001b[2K   \u001b[90m━━━━━━━━━━━━━━━━━━━━━━━━━━━━━━━━━━━━━━━━\u001b[0m \u001b[32m526.8/526.8 kB\u001b[0m \u001b[31m13.4 MB/s\u001b[0m eta \u001b[36m0:00:00\u001b[0m\n",
            "\u001b[?25hDownloading chroma_hnswlib-0.7.3-cp310-cp310-manylinux_2_17_x86_64.manylinux2014_x86_64.whl (2.4 MB)\n",
            "\u001b[2K   \u001b[90m━━━━━━━━━━━━━━━━━━━━━━━━━━━━━━━━━━━━━━━━\u001b[0m \u001b[32m2.4/2.4 MB\u001b[0m \u001b[31m22.9 MB/s\u001b[0m eta \u001b[36m0:00:00\u001b[0m\n",
            "\u001b[?25hDownloading bcrypt-4.2.0-cp39-abi3-manylinux_2_28_x86_64.whl (273 kB)\n",
            "\u001b[2K   \u001b[90m━━━━━━━━━━━━━━━━━━━━━━━━━━━━━━━━━━━━━━━━\u001b[0m \u001b[32m273.8/273.8 kB\u001b[0m \u001b[31m18.1 MB/s\u001b[0m eta \u001b[36m0:00:00\u001b[0m\n",
            "\u001b[?25hDownloading build-1.2.2.post1-py3-none-any.whl (22 kB)\n",
            "Downloading fastapi-0.115.5-py3-none-any.whl (94 kB)\n",
            "\u001b[2K   \u001b[90m━━━━━━━━━━━━━━━━━━━━━━━━━━━━━━━━━━━━━━━━\u001b[0m \u001b[32m94.9/94.9 kB\u001b[0m \u001b[31m6.4 MB/s\u001b[0m eta \u001b[36m0:00:00\u001b[0m\n",
            "\u001b[?25hDownloading kubernetes-31.0.0-py2.py3-none-any.whl (1.9 MB)\n",
            "\u001b[2K   \u001b[90m━━━━━━━━━━━━━━━━━━━━━━━━━━━━━━━━━━━━━━━━\u001b[0m \u001b[32m1.9/1.9 MB\u001b[0m \u001b[31m65.0 MB/s\u001b[0m eta \u001b[36m0:00:00\u001b[0m\n",
            "\u001b[?25hDownloading mmh3-5.0.1-cp310-cp310-manylinux_2_5_x86_64.manylinux1_x86_64.manylinux_2_17_x86_64.manylinux2014_x86_64.whl (93 kB)\n",
            "\u001b[2K   \u001b[90m━━━━━━━━━━━━━━━━━━━━━━━━━━━━━━━━━━━━━━━━\u001b[0m \u001b[32m93.2/93.2 kB\u001b[0m \u001b[31m6.8 MB/s\u001b[0m eta \u001b[36m0:00:00\u001b[0m\n",
            "\u001b[?25hDownloading onnxruntime-1.20.0-cp310-cp310-manylinux_2_27_x86_64.manylinux_2_28_x86_64.whl (13.3 MB)\n",
            "\u001b[2K   \u001b[90m━━━━━━━━━━━━━━━━━━━━━━━━━━━━━━━━━━━━━━━━\u001b[0m \u001b[32m13.3/13.3 MB\u001b[0m \u001b[31m69.2 MB/s\u001b[0m eta \u001b[36m0:00:00\u001b[0m\n",
            "\u001b[?25hDownloading opentelemetry_exporter_otlp_proto_grpc-1.28.1-py3-none-any.whl (18 kB)\n",
            "Downloading opentelemetry_exporter_otlp_proto_common-1.28.1-py3-none-any.whl (18 kB)\n",
            "Downloading opentelemetry_proto-1.28.1-py3-none-any.whl (55 kB)\n",
            "\u001b[2K   \u001b[90m━━━━━━━━━━━━━━━━━━━━━━━━━━━━━━━━━━━━━━━━\u001b[0m \u001b[32m55.8/55.8 kB\u001b[0m \u001b[31m4.5 MB/s\u001b[0m eta \u001b[36m0:00:00\u001b[0m\n",
            "\u001b[?25hDownloading opentelemetry_instrumentation_fastapi-0.49b1-py3-none-any.whl (12 kB)\n",
            "Downloading opentelemetry_instrumentation-0.49b1-py3-none-any.whl (30 kB)\n",
            "Downloading opentelemetry_instrumentation_asgi-0.49b1-py3-none-any.whl (16 kB)\n",
            "Downloading opentelemetry_util_http-0.49b1-py3-none-any.whl (6.9 kB)\n",
            "Downloading overrides-7.7.0-py3-none-any.whl (17 kB)\n",
            "Downloading posthog-3.7.0-py2.py3-none-any.whl (54 kB)\n",
            "\u001b[2K   \u001b[90m━━━━━━━━━━━━━━━━━━━━━━━━━━━━━━━━━━━━━━━━\u001b[0m \u001b[32m54.4/54.4 kB\u001b[0m \u001b[31m3.9 MB/s\u001b[0m eta \u001b[36m0:00:00\u001b[0m\n",
            "\u001b[?25hDownloading uvicorn-0.32.0-py3-none-any.whl (63 kB)\n",
            "\u001b[2K   \u001b[90m━━━━━━━━━━━━━━━━━━━━━━━━━━━━━━━━━━━━━━━━\u001b[0m \u001b[32m63.7/63.7 kB\u001b[0m \u001b[31m5.3 MB/s\u001b[0m eta \u001b[36m0:00:00\u001b[0m\n",
            "\u001b[?25hDownloading backoff-2.2.1-py3-none-any.whl (15 kB)\n",
            "Downloading durationpy-0.9-py3-none-any.whl (3.5 kB)\n",
            "Downloading httptools-0.6.4-cp310-cp310-manylinux_2_5_x86_64.manylinux1_x86_64.manylinux_2_17_x86_64.manylinux2014_x86_64.whl (442 kB)\n",
            "\u001b[2K   \u001b[90m━━━━━━━━━━━━━━━━━━━━━━━━━━━━━━━━━━━━━━━━\u001b[0m \u001b[32m442.1/442.1 kB\u001b[0m \u001b[31m27.5 MB/s\u001b[0m eta \u001b[36m0:00:00\u001b[0m\n",
            "\u001b[?25hDownloading monotonic-1.6-py2.py3-none-any.whl (8.2 kB)\n",
            "Downloading protobuf-5.28.3-cp38-abi3-manylinux2014_x86_64.whl (316 kB)\n",
            "\u001b[2K   \u001b[90m━━━━━━━━━━━━━━━━━━━━━━━━━━━━━━━━━━━━━━━━\u001b[0m \u001b[32m316.6/316.6 kB\u001b[0m \u001b[31m20.0 MB/s\u001b[0m eta \u001b[36m0:00:00\u001b[0m\n",
            "\u001b[?25hDownloading python_dotenv-1.0.1-py3-none-any.whl (19 kB)\n",
            "Downloading starlette-0.41.2-py3-none-any.whl (73 kB)\n",
            "\u001b[2K   \u001b[90m━━━━━━━━━━━━━━━━━━━━━━━━━━━━━━━━━━━━━━━━\u001b[0m \u001b[32m73.3/73.3 kB\u001b[0m \u001b[31m5.3 MB/s\u001b[0m eta \u001b[36m0:00:00\u001b[0m\n",
            "\u001b[?25hDownloading uvloop-0.21.0-cp310-cp310-manylinux_2_17_x86_64.manylinux2014_x86_64.whl (3.8 MB)\n",
            "\u001b[2K   \u001b[90m━━━━━━━━━━━━━━━━━━━━━━━━━━━━━━━━━━━━━━━━\u001b[0m \u001b[32m3.8/3.8 MB\u001b[0m \u001b[31m62.7 MB/s\u001b[0m eta \u001b[36m0:00:00\u001b[0m\n",
            "\u001b[?25hDownloading watchfiles-0.24.0-cp310-cp310-manylinux_2_17_x86_64.manylinux2014_x86_64.whl (425 kB)\n",
            "\u001b[2K   \u001b[90m━━━━━━━━━━━━━━━━━━━━━━━━━━━━━━━━━━━━━━━━\u001b[0m \u001b[32m425.7/425.7 kB\u001b[0m \u001b[31m27.7 MB/s\u001b[0m eta \u001b[36m0:00:00\u001b[0m\n",
            "\u001b[?25hDownloading websockets-14.1-cp310-cp310-manylinux_2_5_x86_64.manylinux1_x86_64.manylinux_2_17_x86_64.manylinux2014_x86_64.whl (168 kB)\n",
            "\u001b[2K   \u001b[90m━━━━━━━━━━━━━━━━━━━━━━━━━━━━━━━━━━━━━━━━\u001b[0m \u001b[32m168.2/168.2 kB\u001b[0m \u001b[31m12.1 MB/s\u001b[0m eta \u001b[36m0:00:00\u001b[0m\n",
            "\u001b[?25hDownloading coloredlogs-15.0.1-py2.py3-none-any.whl (46 kB)\n",
            "\u001b[2K   \u001b[90m━━━━━━━━━━━━━━━━━━━━━━━━━━━━━━━━━━━━━━━━\u001b[0m \u001b[32m46.0/46.0 kB\u001b[0m \u001b[31m3.4 MB/s\u001b[0m eta \u001b[36m0:00:00\u001b[0m\n",
            "\u001b[?25hDownloading pyproject_hooks-1.2.0-py3-none-any.whl (10 kB)\n",
            "Downloading asgiref-3.8.1-py3-none-any.whl (23 kB)\n",
            "Downloading humanfriendly-10.0-py2.py3-none-any.whl (86 kB)\n",
            "\u001b[2K   \u001b[90m━━━━━━━━━━━━━━━━━━━━━━━━━━━━━━━━━━━━━━━━\u001b[0m \u001b[32m86.8/86.8 kB\u001b[0m \u001b[31m6.2 MB/s\u001b[0m eta \u001b[36m0:00:00\u001b[0m\n",
            "\u001b[?25hBuilding wheels for collected packages: pypika\n",
            "  Building wheel for pypika (pyproject.toml) ... \u001b[?25l\u001b[?25hdone\n",
            "  Created wheel for pypika: filename=PyPika-0.48.9-py2.py3-none-any.whl size=53725 sha256=aaba812e20131d741d8c8988b0f37c5a6f8e609aa0c039b535c7383de371b68e\n",
            "  Stored in directory: /root/.cache/pip/wheels/e1/26/51/d0bffb3d2fd82256676d7ad3003faea3bd6dddc9577af665f4\n",
            "Successfully built pypika\n",
            "Installing collected packages: pypika, monotonic, durationpy, websockets, uvloop, uvicorn, python-dotenv, pyproject_hooks, protobuf, overrides, opentelemetry-util-http, mmh3, humanfriendly, httptools, chroma-hnswlib, bcrypt, backoff, asgiref, watchfiles, starlette, posthog, opentelemetry-proto, coloredlogs, build, opentelemetry-exporter-otlp-proto-common, onnxruntime, kubernetes, fastapi, opentelemetry-instrumentation, opentelemetry-instrumentation-asgi, opentelemetry-exporter-otlp-proto-grpc, opentelemetry-instrumentation-fastapi, chromadb\n",
            "  Attempting uninstall: protobuf\n",
            "    Found existing installation: protobuf 4.25.5\n",
            "    Uninstalling protobuf-4.25.5:\n",
            "      Successfully uninstalled protobuf-4.25.5\n",
            "\u001b[31mERROR: pip's dependency resolver does not currently take into account all the packages that are installed. This behaviour is the source of the following dependency conflicts.\n",
            "tensorflow 2.17.1 requires protobuf!=4.21.0,!=4.21.1,!=4.21.2,!=4.21.3,!=4.21.4,!=4.21.5,<5.0.0dev,>=3.20.3, but you have protobuf 5.28.3 which is incompatible.\n",
            "tensorflow-metadata 1.13.1 requires protobuf<5,>=3.20.3, but you have protobuf 5.28.3 which is incompatible.\u001b[0m\u001b[31m\n",
            "\u001b[0mSuccessfully installed asgiref-3.8.1 backoff-2.2.1 bcrypt-4.2.0 build-1.2.2.post1 chroma-hnswlib-0.7.3 chromadb-0.5.0 coloredlogs-15.0.1 durationpy-0.9 fastapi-0.115.5 httptools-0.6.4 humanfriendly-10.0 kubernetes-31.0.0 mmh3-5.0.1 monotonic-1.6 onnxruntime-1.20.0 opentelemetry-exporter-otlp-proto-common-1.28.1 opentelemetry-exporter-otlp-proto-grpc-1.28.1 opentelemetry-instrumentation-0.49b1 opentelemetry-instrumentation-asgi-0.49b1 opentelemetry-instrumentation-fastapi-0.49b1 opentelemetry-proto-1.28.1 opentelemetry-util-http-0.49b1 overrides-7.7.0 posthog-3.7.0 protobuf-5.28.3 pypika-0.48.9 pyproject_hooks-1.2.0 python-dotenv-1.0.1 starlette-0.41.2 uvicorn-0.32.0 uvloop-0.21.0 watchfiles-0.24.0 websockets-14.1\n",
            "Collecting faiss-cpu\n",
            "  Downloading faiss_cpu-1.9.0-cp310-cp310-manylinux_2_17_x86_64.manylinux2014_x86_64.whl.metadata (4.4 kB)\n",
            "Requirement already satisfied: numpy<3.0,>=1.25.0 in /usr/local/lib/python3.10/dist-packages (from faiss-cpu) (1.26.4)\n",
            "Requirement already satisfied: packaging in /usr/local/lib/python3.10/dist-packages (from faiss-cpu) (23.2)\n",
            "Downloading faiss_cpu-1.9.0-cp310-cp310-manylinux_2_17_x86_64.manylinux2014_x86_64.whl (27.5 MB)\n",
            "\u001b[2K   \u001b[90m━━━━━━━━━━━━━━━━━━━━━━━━━━━━━━━━━━━━━━━━\u001b[0m \u001b[32m27.5/27.5 MB\u001b[0m \u001b[31m22.9 MB/s\u001b[0m eta \u001b[36m0:00:00\u001b[0m\n",
            "\u001b[?25hInstalling collected packages: faiss-cpu\n",
            "Successfully installed faiss-cpu-1.9.0\n",
            "Collecting PyPDF2\n",
            "  Downloading pypdf2-3.0.1-py3-none-any.whl.metadata (6.8 kB)\n",
            "Downloading pypdf2-3.0.1-py3-none-any.whl (232 kB)\n",
            "\u001b[2K   \u001b[90m━━━━━━━━━━━━━━━━━━━━━━━━━━━━━━━━━━━━━━━━\u001b[0m \u001b[32m232.6/232.6 kB\u001b[0m \u001b[31m4.3 MB/s\u001b[0m eta \u001b[36m0:00:00\u001b[0m\n",
            "\u001b[?25hInstalling collected packages: PyPDF2\n",
            "Successfully installed PyPDF2-3.0.1\n"
          ]
        }
      ],
      "source": [
        "!pip install pdfplumber\n",
        "!pip install openai==0.28.1\n",
        "!pip install tiktoken==0.6.0\n",
        "!pip install langchain==0.1.20\n",
        "!pip install chromadb==0.5.0\n",
        "!pip install faiss-cpu\n",
        "!pip install PyPDF2"
      ]
    },
    {
      "cell_type": "code",
      "source": [
        "import openai\n",
        "import numpy as np\n",
        "import pandas as pd\n",
        "from langchain.chat_models import ChatOpenAI\n",
        "from langchain.document_loaders import CSVLoader\n",
        "from langchain.embeddings import OpenAIEmbeddings\n",
        "from langchain.prompts import ChatPromptTemplate\n",
        "from langchain.vectorstores import Chroma\n",
        "from langchain_core.output_parsers import StrOutputParser\n",
        "from langchain_core.runnables import RunnableLambda, RunnablePassthrough\n",
        "from openai.embeddings_utils import get_embedding\n",
        "import faiss\n",
        "import warnings\n",
        "import os\n",
        "warnings.filterwarnings(\"ignore\")\n",
        "import PyPDF2"
      ],
      "metadata": {
        "id": "Zvx0APZ05rdb"
      },
      "execution_count": 3,
      "outputs": []
    },
    {
      "cell_type": "code",
      "source": [
        "openai.api_key = ''"
      ],
      "metadata": {
        "id": "VJ36JC_V5u8I"
      },
      "execution_count": 4,
      "outputs": []
    },
    {
      "cell_type": "code",
      "source": [
        "def extract_text_from_pdf(file_path):\n",
        "    text = \"\"\n",
        "    with open(file_path, 'rb') as pdf_file:\n",
        "        reader = PyPDF2.PdfReader(pdf_file)\n",
        "        for page in reader.pages:\n",
        "            text += page.extract_text()\n",
        "    return text"
      ],
      "metadata": {
        "id": "JoRwl-p-6VmR"
      },
      "execution_count": 6,
      "outputs": []
    },
    {
      "cell_type": "code",
      "source": [
        "pdf_text = extract_text_from_pdf(\"/content/financial-wellness-journal-english.pdf\")"
      ],
      "metadata": {
        "id": "bZeTUESk6oCL"
      },
      "execution_count": 9,
      "outputs": []
    },
    {
      "cell_type": "code",
      "source": [
        "print(len(pdf_text))"
      ],
      "metadata": {
        "colab": {
          "base_uri": "https://localhost:8080/"
        },
        "id": "UERhlXvo6xip",
        "outputId": "3f3b9196-731f-4f22-8da8-d95497d87917"
      },
      "execution_count": 11,
      "outputs": [
        {
          "output_type": "stream",
          "name": "stdout",
          "text": [
            "80030\n"
          ]
        }
      ]
    },
    {
      "cell_type": "code",
      "source": [
        "chunk_size = 500\n",
        "chunks = [pdf_text[i:i+chunk_size] for i in range(0, len(pdf_text), chunk_size)]"
      ],
      "metadata": {
        "id": "n7nCyOAj614A"
      },
      "execution_count": 12,
      "outputs": []
    },
    {
      "cell_type": "code",
      "source": [
        "print(chunks)"
      ],
      "metadata": {
        "colab": {
          "base_uri": "https://localhost:8080/"
        },
        "id": "7SHrSvp_74oD",
        "outputId": "9977c7fb-e249-4305-f677-e5e90c64dae5"
      },
      "execution_count": 13,
      "outputs": [
        {
          "output_type": "stream",
          "name": "stdout",
          "text": [
            "['Financial Wellness Journal \\nIntroduction\\nGetting started Pre-assessmentTABLE OF CONTENTS\\nChapter 1: All About Financial Wellness\\nChapter \\nintroductionHow FinEd can \\nhelp you achieve \\nfinancial wellnessThe life stages\\nof money Facing these \\ndifficulties head onActivity: Visioning \\nexercise\\nChapter 2: All About Saving\\nCase study: Mang \\nRafael’s saving \\nproblem Common \\nmisconceptions \\nabout savingWhat are the goals \\nof saving?What are the tools \\nwe can use to start \\nsaving?Where do we save?\\nCase st', 'udy: Aling \\nYolanda insures her \\ndaughter’s future What is insurance? Why do we need \\nto insure ourselves \\nand our family?What are the \\ndifferent kinds\\nof insurance?Chapter wrap-up\\nChapter 4: All About CreditChapter 3: All About Insurance\\nChapter 5: All About Investing\\nConclusion3 4\\n6 7 8 9 11\\n12 13 14 15 20\\n23 21 24\\n27 28 29 29 31\\n33 34 35 36\\n38 39 39 4037\\n41 42 43 43 46Where should our \\nsavings go?What are the \\nmethods of \\nbudgeting?Chapter wrap-up\\nCase study: \\nTeacher Mary is \\nfinally debt-fr', 'eeWhat is credit? Borrowing money \\nand taking debtsWhat is a debt trap \\nand how to avoid it?What are your \\noptions?\\nProceed with \\ncaution!Some practical\\ntips before \\nborrowingLoan calculator Chapter wrap-up\\nCase study: \\nCorporal Star gets \\nscammedWhat is an \\ninvestment?What is the \\ndifference between \\nsaving vs. insurance \\nvs. investment? What are the kinds \\nof investments?What are the other \\nfactors that affect \\ninvestment?\\nRisk appetite \\nand investment \\npersonalityHow to start \\ninvesting?Ident', 'ifying and \\navoiding financial \\nfraud and scamsChapter wrap-up 47 49 50 53\\n54 Closing MessageGetting Started with \\nFinancial Wellness!\\nINTRODUCTION\\nWe’re pretty sure that everyone has \\ntheir own strategy or diskarte  when it \\ncomes to money. At BPI Foundation, \\nhowever, we believe that your \\nstrategy or diskarte  becomes even \\nbetter when paired with financial \\neducation! We’re here to help you \\nmake better decisions involving your \\nmoney, helping you in your journey to \\nbecoming financially fre', 'e.\\nThat’s why FinEd Unboxed is here.\\nFinEd Unboxed is here to help you \\nachieve financial wellness by sharing \\nuseful information that will guide you in becoming a committed saver, \\na responsible borrower, and a \\nwise investor! \\nWith this Financial Wellness Journal, \\nwe want you to have a clear and \\nconcise guide that can help you \\nthrough the principles of financial \\nwellness. Each chapter will unpack a \\ndifferent aspect of financial wellness \\nmatched with valuable insights from \\nreal-life stor', 'ies.\\nTake this guide and let’s start our \\njourney to financial wellness!\\n3Statement\\nI have a positive and healthy attitude towards money.\\nI believe that money can be used as a tool for good.\\nI know exactly how much money I have right now.\\nI know exactly how much money I spent last month.\\nI have a savings goal for the month.\\nI have a savings goal for the year.\\nI have a separate savings account in the bank.PERSONAL ATTITUDES TOWARDS MONEYThere are many ways to become better \\nwith your money. Knowi', 'ng where your \\nmoney goes and the different programs \\nand options available for you can be very \\nhelpful to save and grow your money!Let’s \\nPrepare!\\nAnswer the next page to reassess your personal knowledge and attitude towards money and \\nfinancial terms. \\n4PRE-ASSESSMENT\\nHighly \\nDisagreeDisagree AgreeHighly \\nAgreeI don’t knowStatementHighly \\nDisgreeDisagree AgreeHighly \\nAgreeI don’t know\\nI have a positive and healthy attitude towards money.\\nI believe that money can be used as a tool for good.\\nI ', 'know exactly how much money I have right now.For each statement below, put a checkmark on the box that corresponds to how \\nmuch you agree with the statement. Check only one box for each question.\\nI know exactly how much money I spent last month.\\nI have a savings goal for the month.\\nI have a savings goal for the year.\\nI have a separate savings account in the bank.\\nI place money in my savings account immediately \\nafter I receive money (salary, etc.).\\nI use or have used a spending tracker before.\\nI', ' have savings right now I can use in times of emergency.\\nI see my savings grow every year.PERSONAL ATTITUDES TOWARDS MONEY\\nI am knowledgeable about investments.\\nI have tried investing before.\\nI am knowledgeable about the benefits of insurance.\\nI have joined an insurance program before.\\nI have taken out a loan before.\\nI am aware of the requirements needed for taking out \\na loan.\\nI am knowledgeable about the GSIS/SSS programs of \\nthe government.\\nI can easily recognize financial scams. KNOWLEDGE OF', ' FINANCIAL TERMS AND PROGRAMSPRE-ASSESSMENT \\n5I am aware of the different professional loaning institutions\\nI know a variety of security measures to keep my \\nmoney safe.All About \\nFinancial \\nWellnessCHAPTER 1\\n“Money is difficult to earn but easy to spend.”\\nYou’ve probably heard that saying before. You know it’s \\nvery true.\\nWhen you go through the motions of your daily, weekly, \\nand monthly expenses, it’s difficult to always keep track \\nof all the money you have. Sometimes, you get caught \\nunawar', 'e that you have already overspent or dipped \\nunnecessarily into your savings!\\nThat’s why people adopt different strategies or diskarte to \\nmanage their money. However, these strategies are only \\none part of the equation. There’s more to money than just \\nbeing thrifty or matipid .\\nThat’s where the principles of financial wellness comes in!\\n6CHAPTER 1: ALL ABOUT FINANCIAL WELLNESS\\n7HOW FINANCIAL EDUCATION \\nHELP YOU ACHIEVE \\nFINANCIAL WELLNESS\\nThe goal of Financial Education (FinEd) is to provide \\n', 'you with information and knowledge that can help you \\nmake more confident decisions in using your money. \\nThrough FinEd, you can improve your current financial \\nstrategy to ensure that you are making the most of \\nyour financial situation.\\nFinEd can help you in the following ways:\\nBroaden and deepen your \\npersonal understanding of \\nthe value of savingsGain insight into the best \\npractices involving personal \\nmoney management Familiarize yourself with \\nstrategies and tools that help \\nimprove your ', 'relationship with \\nyour moneyLearn more about the different \\nfinancial programs that are \\nreadily available for you\\nBUT WAIT!\\nThere are no surefire get-rich-\\nquick schemes. If there were, then \\neveryone would just be doing it! Remember: FinEd isn’t about \\nwinning the lotto nor leaving it up \\nto chance. It’s about controlling the \\nthings you can control. It’s about \\nmaking the best situation possible \\nfor you and your finances. Let’s be clear: Financial wellness is NOT \\nabout getting rich. CHAPTE', 'R 1: ALL ABOUT FINANCIAL WELLNESS\\n8THE LIFE STAGES OF \\nHAVING MONEY\\nTake a look at this graph of how much money you usually have through the stages of life:\\nThe  lime green line  is a simplified \\ndrawing of how we expect a \\nperson’s money to grow during \\nthe three life stages.A common financial goal that everyone has is to \\nhave more money.\\nIt makes a lot of sense: it’s better to have more \\nmoney today than you did yesterday. But how \\nrealistic is that goal, really?\\nSCHOOL WORK (EMPLOYMENT OR EN', 'TERPRISE) RETIREMENT\\nHowever, the light teal line  is a \\nmore realistic one. Why? — Simplified\\n— RealisticCHAPTER 1: ALL ABOUT FINANCIAL WELLNESS\\n9When you take these big expenses \\ninto account, it’s hard to have a \\nconsistent and stable financial \\nsituation. The unplanned \\nexpenses, especially, can really \\ngive you a difficult time. Hospital bills and house repairs \\nare not normally part of your \\nbudget, so when you have to pay \\nfor a big amount all of a sudden, \\nthis can really hurt your savin', 'gs!\\nBut you know what? Here’s the truth: THIS IS NORMAL \\nFOR EVERYONE.  Everyone goes \\nthrough difficulties in trying to \\nmanage their money! \\nFACING THESE DIFFICULTIES HEAD ON\\nIf everyone goes through it, it \\nmeans that you don’t have to feel \\nbad about having a hard time. \\nYou are experiencing something \\nnormal—these are the life stages \\nof having money!\\nThere is an advantage here. If you \\nknow that you will inevitably go \\nthrough this, that means you \\ncan prepare. A great way to prepare for t', 'hese \\ndifficulties is to set clear goals. \\nClear goals provide us with clear \\ndirections and steps towards \\nachieving our goals. Because we will always have expenses. These expenses could either be:\\nPlanned Unplanned e.g., when you get married, \\npay for tuition, take a vacatione.g., when there is sickness, \\nan emergency house repair, \\nor an accident\\n“Dreams without \\ngoals are just dreams \\nand they ultimately \\nfuel disappointment. ”\\n- Denzel WashingtonCHAPTER 1: ALL ABOUT FINANCIAL WELLNESS\\n10Whe', 'n building your goals, always remember that good goals are  S.M.A.R.T goals: \\nSpecific, Measurable, Attainable, Relevant, and Time-Bound. Check the boxes that \\napply to your goals.\\nSPECIFIC.  What does your goal truly entail? Becoming rich is not a \\nspecific goal. However, having enough money to buy a new car is a \\nspecific goal. You can take this even further by specifying the type and \\nmake of the car you wish to buy.\\nMEASURABLE.  How will you know when you’ve achieved your  How will you know ', 'when you’ve achieved your \\ngoal? A good goal must always be quantifiable. Using the example goal? A good goal must always be quantifiable. Using the example \\nof being able to buy a car, consider how much your dream car of being able to buy a car, consider how much your dream car \\nactually costs. Knowing the amount you want to achieve will make actually costs. Knowing the amount you want to achieve will make \\nyour  goal measurable.your  goal measurable.\\nRELEVANT .  Why are you setting this goal f', 'or yourself? Having a goal  Why are you setting this goal for yourself? Having a goal \\nrelevant to your needs and interests will help motivate you to achieve relevant to your needs and interests will help motivate you to achieve \\nit. Consider why you are buying this car. If you cannot think of a good it. Consider why you are buying this car. If you cannot think of a good \\nreason, perhaps the goal is not relevant to you. reason, perhaps the goal is not relevant to you. \\nTIME-BOUND.  What is your ', 'timeframe for achieving this goal? Goals cannot \\nbe vague, they have to be as specific as possible. Consider when you would \\nwant to have achieved your goal. When should you have made enough money \\nto buy the car you want? In a year? In two years? Having a timeframe to work \\nin will help you ground your goal and can help motivate you even more. S.M.A.R. T Goals\\nCAN’T WAIT TO START?\\nWhen you learn about how \\nsomething works, you start \\nunderstanding it on a deeper level. \\nYou start to see the tin', 'y details and \\nthe bigger picture. That’s the role \\nof FinEd: to improve your financial \\nmanagement skills with every \\nlesson, every new information.\\nHowever, it’s not enough to just \\nlearn. You also have to apply it to \\nyour day-to-day lives!By the end of this module, you \\nmay be inclined to try these new \\nstrategies. For example:\\n• You might start changing your \\nspending habits.\\n• You might start keeping better track of \\nyour savings.\\n• You might begin an emergency fund.\\n• You might manage you', 'r debts better.\\n• You might start exploring investments.However, all of this is still up \\nto you.\\nIf you want to be better at \\nyour finances, it’s up to you to \\nlearn more and to start making \\nfinancially healthier choices!ATTAINABLE.   Are you capable of achieving your goal? When building Are you capable of achieving your goal? When building \\na goal, you must always take your current circumstances into a goal, you must always take your current circumstances into \\nconsideration. If you are a stu', 'dent earning only from the consideration. If you are a student earning only from the baonbaon  your  your \\nparents give you, perhaps saving up for a car is not attainable for you parents give you, perhaps saving up for a car is not attainable for you \\nright now.right now.“I want to buy a car” “I want to buy my own Toyota \\nVios A/T to provide better mode \\nof transportation for the family, \\nand generate income from it by \\njoining ride-hailing platforms”\\nSave Php 50,000 for the down-\\npayment of the', ' Toyota Vios in \\nthree months, and apply for the \\ncar loan by the end of the yearStill paying \\noff debtsA professional with \\ncomfortable amount of \\nsavings to qualify for big \\nticket purchases\\n“I want to buy a car”“I want to buy a car”\\nThere are more \\neconomical options \\nthat are better suited \\nto sustain a lifestyleThe family travels very \\nfrequently. And there is high \\ndemand for ride-hailing or \\ndelivery services(1) Save Php 50,000 for the \\ndown-payment for the \\nToyota Vios A/T . \\n(2) Allot P', 'hp 15,000/month for \\nthe five-year car amortizationCHAPTER 1: ALL ABOUT FINANCIAL WELLNESS\\n11ACTIVITY: \\nVISIONING EXERCISEWhat do you want to achieve after 10 years? Visualize your goals and \\ndreams and draw it on the space provided. Be specific in your drawings \\n(e.g. Married with 2 kids, own a house and car). Make sure to apply the \\nconcept of S.M.A.R.T Goals with this exercise.\\nInteractivity Portion!\\nYou may choose to draw on this \\npage digitally or print a hardcopy.All About \\nSavingCHAPTER 2', '\\nMang Rafael’s dream is for his wife to come home to a \\ngood life—a life that mirrors her 22 long years of hard \\nwork as an overseas Filipino worker in Hong Kong. To \\nmake this happen, they need to have a home to call their \\nown and retirement funds to live on. But with two kids \\nand the typical challenges of life—sickness in the family, \\nemergency expenses, among many others—Mang Rafael \\nfound it difficult to save money. \\nDetermined to bring his wife home, he began cultivating \\nvegetables to se', 'll for additional income. By living simply \\nand within their means, Mang Rafael has now been able \\nto open a savings account. With Mang Rafael’s newly-\\nfounded business and his wife’s regular income, they were \\nable to eventually purchase a house and land. He said \\nthat the key to saving efficiently are the values of “ tipid, \\nsipag, at tiyaga ” and also being faithful to your partner \\nand family.\\n12CASE STUDY: MANG RAFAEL ’S SAVING PROBLEMCOMMON MISCONCEPTIONS ABOUT SAVINGCHAPTER 2: ALL ABOUT S', 'AVING\\nSometimes, it’s hard to start saving because you think certain things have to fall into place first. Or you think that \\nit’s going to be difficult. You can list so many reasons. But are you sure that all those reasons are 100% valid?\\n#1: You should not save in \\nbanks because they have low \\ninterest rates.\\nFALSE.  You do not save to \\ngrow your money. Owning a \\nsavings  account is meant to \\nsecure your money and have \\nliquidity. This means that you \\nhave money that is accessible \\nto you when', ' you need it.#2:#2: You need to have a high salary  You need to have a high salary \\nbefore you start saving money.before you start saving money.\\nFALSE.   It’s not about the income \\nyou’re making right now, it’s how \\nmuch of it you allot for savings. \\nYour savings should adjust \\nproperly and proportionally to \\nyour income. It’s about finding \\nthe right balance!\\n#4:#4: You can only save a small  You can only save a small \\namount, so it’s not worth it.amount, so it’s not worth it.\\nFALSE.FALSE.   Ev', 'ery peso counts. Even \\nif it’s a small amount, you have \\nto remind yourself: what will it \\nlook like in a year? How about in \\ntwo years? Three? Saving money \\ndoesn’t happen overnight. You \\nhave to persevere for that small \\namount to eventually become big.#3:#3: You have to deprive yourself  You have to deprive yourself \\nif you want to save money.if you want to save money.\\nFALSE.  Saving money is not \\nabout stopping all expenses. It’s \\nnot about choosing the thriftiest \\noption at all times. Rathe', 'r, it’s \\nabout knowing your budget well \\nand giving yourself the freedom \\nto use that budget wisely!\\nYes, you can spend—but wisely!\\n1313A very important part of financial wellness is \\nsavings!  It also seems to be the most difficult \\npart. According to a 2017 survey1, more than half \\nof all Filipino respondents answered they were \\nnot able to have savings at all in that year.\\nLet’s try to find more about savings.\\nInteractivity Portion! \\nLinks are clickable and will open \\nto a new window.\\n13\\n 120', '17 Financial Inclusion Survey: Moving Towards Digital Financial Inclusion. \\nBangko Sentral ng Pilipinas. (29 June 2017).  http://www.bsp.gov.ph/downloads/\\nPublications/2017/2017FISToplineReport.pdfThese two are important because they \\nhelp you achieve fulfillment and peace \\nof mind.\\n14WHAT ARE THE GOALS OF SAVING?CHAPTER 2: ALL ABOUT SAVING\\nWhen you start saving, it’s not because you just want the feeling of having more money. \\nOf course, you plan to use that money in some way.\\nWhen you want to ', 'save, you are usually aiming for these two things:\\nYou want to reach a  milestone or goal \\n(i.e. retirement, vacation, home, education) #1You want to protect yourself and your \\nfamily from unforeseen circumstances \\nor emergencies  (i.e. accident, \\ntyphoon, fire, death)#2WHEN IS THE BEST TIME TO START SAVING?\\nThere is no “right timing” for you \\nto start saving. You have to do it \\nnow, as soon as possible. \\nIt doesn’t matter if you start small. \\nWhat matters is you start.\\nImagine: if you started s', 'aving \\nexactly one year ago, you would already have one year’s worth of \\nsavings by now. If you’re aiming \\nfor a small luxury purchase or \\nlooking to pay something off, you \\nmight even have that amount \\nready by now if you started saving \\nlast year!RIGHT NOW.\\nWHAT ARE THE TOOLS WE CAN USE TO START SAVING?\\nSPENDING TRACKER BUDGET PLANNER COST MATRIXCHAPTER 2: ALL ABOUT SAVING\\nInteractivity Portion! \\nEach button will lead you  to the \\npage of the designated resource. 15I have savings right now I c', 'an use in times of emergency.STEP  1: List down your savings goals based on your visioning exercise.\\nIncome #1\\nGROSS INCOMESTEP 2: List down all sources of income and expenses.MONTHLY SPENDING TRACKER\\n16Goal Target amountHow many \\nmonths to save?How much to save \\nper month?\\n1. Sources of income\\nIncome #2\\nIncome #3\\n2. Deductions on gross income\\nA.    Tax\\nB.    GSIS/SSS\\nC.    Philhealth\\nTOTAL DEDUCTIONS\\nNET INCOME\\n3. Expenses\\nA.    Basic needs\\nFood\\nRent \\nUtility17MONTHLY SPENDING TRACKER\\nI have sa', 'vings right now I can use in times of emergency.Tuition fees\\nPOTENTIAL SAVINGS (NET INCOME - TOTAL EXPENSES)Medical expenses \\nPersonal needs (e.g soap, shampoo, etc)\\nB.    Debts\\nBank or other financial institutions\\nC.    Other expenses:\\nTOTAL EXPENSESEntertainment and leisure (e.g. movies)\\nPotential savings\\nLess: Total target savings goal (from Step 1)\\nSAVINGS CAPACITY (should be positive) AMOUNT\\nSTEP 4: Write your action plan to reach your savings goal.\\nExample: “I will limit my expenses for wa', 'nts to Php 1,000 a month. ”STEP 3: Review your budget and see what you can add to your income and subtract from your expenses.\\nCompute for your potential savings. \\nBack to ToolsEXPENSE ITEMSBUDGET PLANNER\\n18Track your expenses more closely. Create your budget for the month so you can analyze \\nyour needs and wants better. When you budget, always follow the correct saving formula, \\nalso called the “prosperity” formula:\\nIncome – Savings = Expenses\\nImmediately set aside your savings. Treat it as an ', '“expense” for yourself and your  family.  \\nThe secret  to  financial  health  is  to  set  aside  your  savings  first, before spending the rest \\nof your money on budgeted expenses. \\nBUDGET ACTUAL AMOUNT SPENTMonth\\nNet Income (From Step 2 of Spending Tracker)\\nSavings to set aside (Savings capacity From Step 3 \\nof Spending Tracker)\\nRent\\nFood (e.g. wet market)\\nFood (e.g. groceries)\\nToiletries\\nElectricity\\nWater\\nLandline phone\\nMobile phone\\nCable TV\\nInternet\\nTransportation allowance\\nChildren’s allowa', 'nce\\nLoan amortization\\nBack to ToolsITEMSCOST MATRIX\\n19UNIT COST /\\nFREQUENCYHOW MUCH WILL YOU SAVE?\\nWEEKLY MONTHLY YEARLY\\nBack to ToolsExample: SoftdrinksPhp 15/day \\n(Instead of \\nPhp 30/day)Php 105 Php 450 Php 5,475What are the things you can give up?WHERE DO WE SAVE?CHAPTER 2: ALL ABOUT SAVING\\nOPTION #1:\\nBanksPlacing your money in a bank is one \\nof the most practical and secure ways \\nwhen beginning to save.  It relieves \\nyou from worrying about the status and \\nwhereabouts of your money. It also ', 'helps \\nyou track accurately the amount of money \\nyou have. Knowing how much you have \\nwill help you stay in budget!\\nWhat if you don’t have a lot of money \\nnow?  That’s perfectly alright! Banks know \\nthat there are a lot of Filipinos like you \\nwho want to open a savings account but \\nmay not have a lot of money to put into a \\nfirst or initial deposit. \\nNow, you can open a savings account for \\nas low as Php 50. BPI Direct BanKo, a subsidiary of the \\nBank of the Philippine Islands (BPI), for \\nexampl', 'e, offers its PondoKo Savings \\naccount that requires only a minimal \\ninitial deposit.\\nIn short, banks have easy and \\nstraightforward processes for opening \\naccounts.  ATMs are also available ATMs are also available \\neverywhere; you can conveniently everywhere; you can conveniently \\nwithdraw your money anytime, anywhere. withdraw your money anytime, anywhere. \\nPlus, you don’t need a lot of money to Plus, you don’t need a lot of money to \\nopen an account.open an account.\\nOPTION #2:\\nSavings \\nand cr', 'edit \\ncooperativesCredit cooperatives offer basic financial \\nservices to all their regular members.  \\nThe money pooled together by all the \\nmembers throughout their membership \\ncan be used for savings, low-interest loans, \\nand other similar services.Some savings and credit cooperatives also \\nhelp members to improve their financial \\nhabits, as well as offer bonuses like rebate \\nand other benefits.\\nOPTION #3:\\nSelf-help \\ngroupsThese are smaller groups where you can These are smaller groups where yo', 'u can \\npractice saving money.practice saving money.   Each member of Each member of \\nthe group commits to paying an amount the group commits to paying an amount \\nper month, and then at the end of the per month, and then at the end of the \\nperiod, members will get back all the period, members will get back all the \\nmoney they have “saved” sincemoney they have “saved” since\\n they began. they began.Since the money is being kept by someone Since the money is being kept by someone \\nelse, you “save” b', 'y not being able to else, you “save” by not being able to \\nspend that money immediately. The most spend that money immediately. The most \\nfamous example here is thefamous example here is the   paluwagan.paluwagan.\\n20Interactivity Portion! \\nOpens a link and goes\\nto PondoKoWHERE SHOULD YOUR \\nSAVINGS GO?CHAPTER 2: ALL ABOUT SAVING\\nThe end goal of having savings is not about reaching a \\ncertain amount and then doing nothing with the money. \\nIt’s about preparing to spend for the following:\\nEmergency ', 'savings\\nEmergencies and unplanned expenses \\nDO HAPPEN . When they do, don’t hesitate \\nto use your savings to cover the cost! This \\nis one of the main reasons why you saved \\nin the first place: so that you won’t have to \\nworry too much when it happens. These \\nemergency savings can help take on the \\nbig expense, helping you get back on your \\nfeet quicker.\\nFor example, the Pag-ibig MP 22. The MP2 \\nSavings is a special savings facility with a \\nfive-year maturity, designed for Pag-IBIG Fund members w', 'ho wish to save more and \\nearn even higher dividends, in addition to \\ntheir Pag-IBIG Regular Savings.\\nThe program is also open to pensioners \\nand retirees who were former Pag-IBIG \\nFund members.\\nThe minimum MP2 savings is Php 500 \\nper remittance.\\nShort-term goals\\nContrary to popular belief, savings can \\nbe used for short-term goals and small \\npurchases. Remember: savings are not \\njust for emergencies, they can also give \\nyou fulfillment!\\n2121\\n24Bď Ĵ4odified BagĸI\\rI  ďĵ Favings. BagĸI\\rI  \\x1fund. \\nh', 'ttps:ĮĮwww.pagibigfund.gov.phĮMembershipįModifiedPagIBIG2.htmlRetirement savings\\nIt’s never too early to think far ahead into the future. When you are finally of retiring age, you want to enjoy your retirement by not having to \\nconstantly worry about money. Invest in peace of mind for your old age as early as now.\\nGSIS and SSS are examples of retirement plans that are available to you!\\nGSIS Retirement under R.A. 8291\\nUnder Philippine law3, a GSIS member has the \\noption to receive a five-year lum', 'p sum or cash \\npayment with instant pension. To qualify for \\nretirement benefits, the GSIS member must \\ncomply with the following requirements: \\n1. Must have rendered at least 15 years of \\nservice and must be at least 60 years of age \\nupon retirement.  \\n2. Must not be a permanent total disability \\npensioner.SSS Retirement under R.A. 11199\\nSSS Retirement Benefits4 may be availed of \\nthrough a monthly pension or a lump sum. The \\nfollowing are the SSS members qualified for \\nRetirement Benefits:\\n1. ', 'Must be 60 years old and separated from \\ntheir employment or ceased to be self-\\nemployed.  \\n2. Must be 65 years old, whether or not they \\nare employed.  \\n3. Must be 55 years old if they have worked as \\nan underground miner for at least five years \\nprior to the semester of their retirement. \\nIf an unemployed miner, they must be at \\nleast 60 years old before they can claim \\nretirement benefits.CHAPTER 2: ALL ABOUT SAVING\\n22\\n3Retirement. Government Service Insurance System.\\nhttps:ĮĮwww.gsis.gov.phĮ', 'active-membersĮbenefitsĮretirementĮ\\n4Pension Details. Social Security System.\\nhttps://www.sss.gov.ph/sss/appmanager/pages.jsp?page=retirementpensionCHAPTER 2: ALL ABOUT SAVING\\n23OPTION #3:\\n 50/20/30 rule\\nFollow the 50-20-30 rule. According to this Follow the 50-20-30 rule. According to this \\nrule, whenever you receive your income, rule, whenever you receive your income, \\ndivide it right away. 50% of it should go divide it right away. 50% of it should go \\nto your daily and monthly needs. 20% of t', 'o your daily and monthly needs. 20% of \\nit should immediately be deposited to it should immediately be deposited to \\nyour savings. You are then free to use the your savings. You are then free to use the \\nremaining 30% for the things that you want!remaining 30% for the things that you want!OPTION #1:\\nAuto-debit \\nmechanism  \\nIf you have a bank account and they have If you have a bank account and they have \\nthe auto-debit mechanism, they can be the auto-debit mechanism, they can be \\nauthorized to p', 'ay your bills directly using authorized to pay your bills directly using \\nmoney from your account. Not only is this money from your account. Not only is this \\nconvenient, it also ensures that you know convenient, it also ensures that you know \\nexactly how much money you’re paying. exactly how much money you’re paying. \\nIt is also secure and saves you from late It is also secure and saves you from late \\npayment charges!payment charges!OPTION #2:\\nEnvelope \\nsystem\\nLabel your envelopes according to ', 'the Label your envelopes according to the \\ncategories of your expenses, like groceries, categories of your expenses, like groceries, \\nmedicine, commute, etc. Compute how medicine, commute, etc. Compute how \\nmuch money you will need to spend for much money you will need to spend for \\neach category for the month. Once you each category for the month. Once you \\nreceive your cash income, place the receive your cash income, place the \\nEXACT amount of money in their EXACT amount of money in their \\nres', 'pective envelope.respective envelope.\\nThis helps you become more accurate This helps you become more accurate \\nwith your money and prevents you with your money and prevents you \\nfrom overspending!from overspending!WHAT ARE THE METHODS OF BUDGETING?CHAPTER 2: ALL ABOUT SAVING\\n24CHAPTER WRAP-UP!\\nGrowing your savings is like taking a trip. There are \\ndifferent ways to start and grow your savings, each \\nwith their own unique advantages and perks. \\nLike any trip, you will need to plan on how to grow ', '\\nyour savings. Once you’ve settled on a plan, you will \\nhave to commit to it. It may seem like a lot, but trust \\nus, with a little discipline and mindfulness of your \\nown spending habits, you’ll be well on your way to \\nfinancial freedom.To help you along, here are some tips to get you started on saving. \\nTIP #1:\\nDevelop healthy \\nspending and \\nsaving habits \\nIt’s difficult to change your spending and It’s difficult to change your spending and \\nsaving habits overnight. Set small and saving habits ', 'overnight. Set small and \\nachievable goals for yourself at the start. More achievable goals for yourself at the start. More \\nimportantly, don’t be hard on yourself if you importantly, don’t be hard on yourself if you \\ngo beyond budget or overspend once in a go beyond budget or overspend once in a \\nwhile. Remember: this is a process.while. Remember: this is a process.\\nAnother great small goal to set is to place Php Another great small goal to set is to place Php \\n20 into a jar or bowl every time ', 'you come 20 into a jar or bowl every time you come \\nhome from school or work. Place this jar near home from school or work. Place this jar near \\nthe door or in a safe place where you can the door or in a safe place where you can \\neasily see it so that you will never forget about easily see it so that you will never forget about \\nit. If you do this, you’ll have at least Php 100 in it. If you do this, you’ll have at least Php 100 in \\nsavings by the end of the week!savings by the end of the week!\\nT', 'IP #2:\\nPrioritize needs \\nover wants When you have to choose between \\nsomething you absolutely need and \\nsomething you really want, choose the \\nthing that you need. You’re going to end \\nup spending for it anyway, even if it takes \\nan extra day or two. If you go for the thing \\nthat you want, you’ll still be buying the \\nthing you need, and that will double \\nyour expense!\\nA great way to practice this is to start \\nby just keeping track of everything you \\nspend. Every time you open your wallet to \\npay', ' for something, write down what you \\npaid for and how much you spent on it.You can use your phone or keep a piece of \\npaper and a small pencil in your wallet. At \\nthe end of the week, review your expenses. \\nAre you spending more on needs? Or is \\nmost of your spending going to wants you \\ncan live without?CHAPTER 2: ALL ABOUT SAVING\\n25TIP #3:\\nMake use of the new \\nsavings formula  CHAPTER 2: ALL ABOUT SAVING\\n26Whether you earn income every \\nweek or month, think of a small \\namount you would have lik', 'ed to \\nsave until your next payday. \\nThis is your savings goal! \\nThe next time you earn, place \\ncash equal to your savings \\ngoal in an envelope, seal the \\nenvelope with tape, and keep it \\nin a secure place. On the envelope, draw seven or \\nfourteen circles, depending on \\nwhether your plan is for a week \\nor two weeks. For every day that \\nyou do not spend that amount, \\nmark one of the circles with a \\ncheck. You can only touch the \\ncash in the envelope once all the \\ncircles are marked or in case of ', 'a \\ndire emergency. At the end of one or two weeks \\nyou would have achieved your \\nsavings goal! Feel free to spend \\nthis amount as you wish or to \\ncontinue saving. Bonus points if \\nyou put your new savings into a \\nsavings account.Usually, once you receive your income, you will \\nuse it for expenses, and whatever’s left, that will \\nbe savings. The old formula  looks like this:\\nINCOME - EXPENSE = SAVINGS\\nThe problem with the old formula is that if you \\noverspend, you might end up with little or no \\n', 'savings at all!\\nA great way to start using this formula is to try this exercise: \\nSTEP 1 STEP 2 STEP 3INCOME  \\nSAVINGS\\nEXPENSE \\nUSE THIS NEW FORMULA INSTEAD!All About\\nInsuranceCHAPTER 3\\nAling Yolanda always worries about the future. Hoping to \\nprovide for her family and support her child, she decided \\nto work in Singapore in pursuit of higher income. \\nThrough her friends and family, Aling Yolanda learned \\nabout insurance plans and how they could be a way to \\npay for future expenses. Worried abou', 't what will happen \\nto her family if she passes away, she bought a requisite \\nlife plan and an accident insurance plan that will pay \\nfor her funeral bills and leave money to her loved ones \\nif something happens to her. Aside from this, she also \\nplans to get a Medical Insurance policy in order to help \\nwith medical expenses in case she gets sick. \\nFor Aling Yolanda, it is important to be ready. She \\nadvises others to get insurance as well because “ito \\nang magiging proteksyon natin laban sa mga', ' \\npangyayaring wala tayong control. ”\\n27CASE STUDY: ALING YOLANDA INSURES HER \\nDAUGHTER’S FUTURECHAPTER 3: ALL ABOUT INSURANCE\\n28WHAT IS INSURANCE?\\nInsurance is a way to prepare and protect yourself and your loved ones financially.\\nHere’s how it works:\\nYou are paying the insurance provider \\nto allot and hold on to your money for \\nyou so that you will be prepared for the \\nfuture and they will be there to help \\nyou manage your money.You pay regularly to your insurance provider, \\nwhich is called th', 'e premium.\\nIf something unplanned or unfortunate happens, \\nthey will provide financial coverage so that you don’t \\nhave to worry about where to get the money.In return for paying your premium, the insurance \\nprovider is obliged to provide financial assistance \\nto you based on your contract.\\nIf you reach a milestone like your retirement, \\nthey will disburse your premium so that you will \\nstill have income even in old age.#1\\n#3#2\\n#4\\nWHY DO WE \\nNEED TO INSURE \\nOURSELVES AND \\nOUR FAMILY?Life can be ', 'unpredictable. Even \\nif you are careful and calculated, \\nunexpected things can still \\nhappen that you are not \\nprepared for.\\nYou don’t want to be caught \\noff-guard. \\nMuch like savings, the value of \\ninsurance is that you get to have \\npeace of mind. It is an additional \\ncost that you pay just so you are \\nfinancially ready for whatever \\nhappens in the future.  More importantly, being able to \\nlean on insurance helps lessen \\nthe burden on your family and \\nyour loved ones.  \\nIf an accident happens t', 'o you, for \\nexample, they would not have \\nto raise funds and worry about \\nwhere to get the money if you \\nhave health insurance. There will \\nbe less stress and financial strain \\non the family.CHAPTER 3: ALL ABOUT INSURANCE\\n29WHAT ARE THE DIFFERENT KINDS OF INSURANCE?\\nTYPE #1:\\nLIFE \\nINSURANCEIn case of accidents or death, life In case of accidents or death, life \\ninsurance assures that your family and insurance assures that your family and \\nthe ones you leave behind will receive the ones you leave', ' behind will receive \\nfinancial assistance. financial assistance. This helps them not This helps them not \\nonly financially but also emotionally, so only financially but also emotionally, so \\nthey will not have the added pressure of they will not have the added pressure of \\nhaving to worry about the money aspect.having to worry about the money aspect.\\nAn example of this is the BPI-PhilamLife An example of this is the BPI-PhilamLife \\nProtect InsuranceProtect Insurance5 which provides life  which ', 'provides life \\ninsurance equal to 100% of your plan’s insurance equal to 100% of your plan’s face value. This is a simple and affordable face value. This is a simple and affordable \\nway to protect your family’s future with way to protect your family’s future with \\nplans starting at Php 320 per month for life plans starting at Php 320 per month for life \\ninsurance coverage of Php 1 million.  insurance coverage of Php 1 million.  \\nLife Protect is a flexible product that Life Protect is a flexible ', 'product that \\ncomes in three options depending on your comes in three options depending on your \\nbudget and length of time you wish to be budget and length of time you wish to be \\ncovered by the policy: one year, five years, covered by the policy: one year, five years, \\nor ten years.or ten years.\\n5BPI-PhilamLife Protect Insurance. BPI-Philam Life  Assurance Corp.\\nhttps://www.bpi-philam.com/content/dam/bplac/en/docs/brochures/Life%20Protect.pdfCHAPTER 3: ALL ABOUT INSURANCE\\n30TYPE #2:\\nNON-LIFE \\nI', 'NSURANCENon-life insurance helps you cover for Non-life insurance helps you cover for \\npossible loss of or damage to property. possible loss of or damage to property. \\nShelling out huge sums of money for Shelling out huge sums of money for \\ncar repair, for example, can set you back car repair, for example, can set you back \\nfinancially, especially if you are reliant on financially, especially if you are reliant on \\nyour car! your car! \\nNon-life insurance softens the blow of Non-life insurance so', 'ftens the blow of \\nthese losses or damages, helping you get these losses or damages, helping you get \\nback on your feet faster. back on your feet faster. \\nFire insuranceFire insurance6 is an example of a common is an example of a common\\nnon-life insurance policy. If, for example, non-life insurance policy. If, for example, \\nyour home catches fire, the proceeds from your home catches fire, the proceeds from \\na fire insurance policy covering your home a fire insurance policy covering your home can', ' help cover the cost of repairs or can can help cover the cost of repairs or can \\neven help you buy a new home. even help you buy a new home. \\nAnd don’t let the name mislead you! Fire And don’t let the name mislead you! Fire \\ninsurance policies can also cover your insurance policies can also cover your \\nhome against other causes of loss or home against other causes of loss or \\ndamage such as robberies, earthquakes, damage such as robberies, earthquakes, \\ntyphoons, floods, or riots.typhoons, floo', 'ds, or riots.\\nFire insurance policies can also cover Fire insurance policies can also cover \\ncommercial or industrial buildings, the commercial or industrial buildings, the \\ncontents of your home, any machinery or contents of your home, any machinery or \\nequipment inside your building, or even equipment inside your building, or even \\nstocks that you ownstocks that you own6..\\nTYPE #3:\\nPRE-NEED  \\nPLANSSometimes, it helps to prepare early Sometimes, it helps to prepare early \\nfor expenses that you ', 'know you will for expenses that you know you will \\neventually have to face. Commonly, eventually have to face. Commonly, \\neducation plans and memorial plans are education plans and memorial plans are \\npart of this category. part of this category. Pre-need plans are Pre-need plans are \\nlike advance payments. like advance payments. \\nBy getting a head start on this future By getting a head start on this future \\nexpense, you are saving your future self expense, you are saving your future self \\nfrom ', 'financial worry and stress!from financial worry and stress!\\nMemorial plans are a common kind of pre-Memorial plans are a common kind of pre-\\nneed plan. In this set-up you will typically need plan. In this set-up you will typically pay a death care company in advance for pay a death care company in advance for \\nyour funeral or memorial expenses. Once your funeral or memorial expenses. Once \\nyou pass away, the death care company you pass away, the death care company \\nwill take care of arranging fo', 'r your funeral will take care of arranging for your funeral \\nor memorial according to the details of or memorial according to the details of \\nyour plan. This has the added benefit of your plan. This has the added benefit of \\nfreeing your family from the expense and freeing your family from the expense and \\nstress that comes with planning a funeral stress that comes with planning a funeral \\nor memorial service.or memorial service.\\nTYPE #4:\\nVARIABLE LIFE \\nINSURANCESome insurance options also have ', 'Some insurance options also have \\ninvestment components. Money invested investment components. Money invested \\ncan grow, especially if all the factors are can grow, especially if all the factors are \\nconducive. conducive. Variable life insurance is Variable life insurance is \\nlike hitting two birds with one stone, like hitting two birds with one stone, \\nyou get reassurance and also potential you get reassurance and also potential \\ninvestment success!investment success!\\nA great example of a varia', 'ble life insurance A great example of a variable life insurance \\npolicy is the BPLAC Invest Peso Maxpolicy is the BPLAC Invest Peso Max7. . Here, you pay a one-time fee in exchange Here, you pay a one-time fee in exchange \\nfor a combined investment and life for a combined investment and life \\ninsurance plan.insurance plan.\\nThis allows you to simultaneously grow This allows you to simultaneously grow \\nyour money while securing your family’s your money while securing your family’s \\nfinancial futur', 'e. This can also be used financial future. This can also be used \\nas a way to boost your retirementas a way to boost your retirement\\nfunds, ensuring your own long-term funds, ensuring your own long-term \\nfinancial freedom. financial freedom. \\n6Fire Insurance. BPI/MS Insurance Corporation. \\nhttps:ĮĮwww.bpims.comĮproductsĮfire-insurance?fbclid=IwAR35đhP5NFIPbEwg -\\nFmzgRWHUptTr/hrđđđfi1MvTGG/.zs7S0tzđ5WWĕWaĕ\\n7Invest Peso Max. BPI-Philam Life Assurance Corporation. \\nhttps://www.bpi-philam.com/en/our', '-products/investment/invest-peso-max.htmlCHAPTER 3: ALL ABOUT INSURANCE\\n31CHAPTER WRAP-UP!\\nGetting insurance is a sure-fire way of securing \\nyour family’s and your financial freedom. However, \\nonce you have an insurance plan, it is important to \\nprioritize and regularly pay your insurance premiums \\nin order to get the full benefits of your policy.CHAPTER 3: ALL ABOUT INSURANCE\\n32Here are some tips to make sure that you regularly pay your insurance premiums:\\nTIP #1:\\nKnow your policy \\ndetails \\nFam', 'iliarizing yourself with your billing Familiarizing yourself with your billing \\nstatement and payment dues will allow statement and payment dues will allow \\nyou to make necessary adjustments to you to make necessary adjustments to \\nyour budget. If you have any questions, your budget. If you have any questions, \\nyou can always direct them to the you can always direct them to the \\nrepresentatives of the insurance company.representatives of the insurance company.\\nTIP #2:\\nTreat your insurance \\npremi', 'um like any \\nother bill \\nBe sure to set aside money to pay your Be sure to set aside money to pay your \\npremiums every month, much like you premiums every month, much like you \\nwould for your water or electricity bill. If would for your water or electricity bill. If \\nyou have a savings account, you can set you have a savings account, you can set \\nup an automatic payment system for your up an automatic payment system for your \\npolicy with your bank.policy with your bank.TIP #3:\\nSchedule your \\npay', 'ments\\nTake note of any deadlines for the Take note of any deadlines for the \\npayment of your insurance premiums. payment of your insurance premiums. \\nRemember that in some cases, failure to Remember that in some cases, failure to \\npay premiums on time can lead to the pay premiums on time can lead to the \\npayment of penalties or even the lapse of payment of penalties or even the lapse of \\nyour policy.your policy.Payment DueAll About\\nCreditCHAPTER 4\\nTeacher Mary is one of the many hardworking teac', 'hers in \\nthe country who continue to give their best to educate the \\nyounger generation. Even with a regular income, she still \\nhad to borrow money to cover her parents’ hospital bills. \\nAnd like many other Filipinos, Teacher Mary soon found \\nherself in a debt trap as she struggled to pay back \\nher loans. \\nThrough a recent financial wellness training she attended, \\nshe was able to understand the importance of budgeting \\nand paying her amortizations on time. Hoping to free \\nherself from debt, Tea', 'cher Mary took the initial step—\\nchanging her mindset. She advised others to do the same \\nby living within your means, planning before taking out a \\nloan, and prioritizing your needs over your wants.\\nWith her continuous hard work and perseverance, \\nTeacher Mary finally paid off her debts despite the \\nchallenging situation.33CASE STUDY: TEACHER MARY IS FINALLY DEBT-FREECHAPTER 4: ALL ABOUT CREDIT\\n34WHAT IS CREDIT?\\nIf you’ve ever taken out a loan or utang, you know what credit is. It is \\nwhen a bo', 'rrower receives something of value now, usually cash, and \\nagrees to repay the lender back on a later date. Usually, the borrower \\nalso has to pay interest, or a percentage of the value they borrowed, \\nin addition to paying what they originally owe. For example, let’s say you’ve \\nalways dreamed of buying a \\nhouse. You do your best to \\nsave whatever money you \\ncan towards a fund to pay \\nfor the modest house of your \\ndreams. One day, you receive a \\nwell-paying job offer very close \\nto the neighbor', 'hood you’ve \\nalways envisioned your dream \\nhouse to be. You go around the \\nneighborhood and find a house \\navailable for sale. It’s perfect for your needs: \\nenough space for you and your \\nfamily and it’s within walking \\ndistance from your new, well-\\npaying job. You look at your \\nsavings fund and see that it \\nisn’t enough to buy this house, \\ndespite your best efforts. What \\ndo you do? This could be an \\ninstance when getting credit \\nor taking out a loan would be \\nbeneficial for you. From 5-6 to cre', 'dit cards, credit or \\nutang is a familiar part of Filipino \\nculture. Credit can help you get \\nthrough financial emergencies \\nlike sudden hospital bills. It \\ncan also help you finance those \\nnecessary expenses that are too \\nexpensive to pay for without a \\nlittle help, like a car or a house.\\nIn the last chapter, we talked \\nabout how insurance was a way \\nof protecting yourself and your \\nfamily financially. \\nThink of credit as a different kind \\nof protection. When done for the \\nright reasons, loans ', 'can actually \\nhelp improve your financial \\nsituation and bring you closer \\nto living the life you’ve always \\ndreamed of.CHAPTER 4: ALL ABOUT CREDIT\\n35BORROWING MONEY AND TAKING ON DEBTS\\nIs borrowing money good or \\nbad? Well, it depends.\\nThere are situations where going \\ninto debt can be a step towards \\nyour own financial freedom. \\nExamples of this can be when you \\ntake out a loan to buy a home, a \\ncar, or to start a business. In these \\ncases, borrowing money could be \\ngood because you use the mo', 'ney \\nto your advantage. The new home \\nor car you buy can make a better-\\npaying job easily accessible, \\nputting you in a better financial situation than you were in before. \\nThe business you borrowed \\nmoney for can grow and earn you \\nmoney. This is what is known as a \\ngood debt.\\nBut be careful! Just as there are \\ngood debts, there can also be bad \\ndebts. Taking out a loan to pay \\nfor the cost of large, unnecessary \\nspending is a terrible reason to \\ngo into debt. When you borrow \\nmoney that you kn', 'ow you cannot \\npay back, you have acquired a \\ndebt that does not improve your financial condition. You may also \\nhave fallen into a debt trap. As \\nmuch as possible, avoid these \\nkinds of bad debts.\\nAs we can see, debts are not \\njust “good” or “bad.” But how \\nwill you know the difference? \\nKnowing the difference between \\na good debt and a bad debt \\nis very simple. All you have to \\ndo is be aware of your reasons \\nfor borrowing money and your \\nability to pay it back in \\nthe future.CHAPTER 4: ALL AB', 'OUT CREDIT\\n36WHAT IS A DEBT TRAP AND HOW TO AVOID IT?\\nA debt trap is a situation where we \\nfind it impossible to pay back the \\nmoney we’ve borrowed. Nabaon \\nna sa utang , in other words.\\nThis is the scenario we want \\nto avoid the most when\\nborrowing money. Debt traps are bad for our \\nfinancial wellness and once we \\nare in one, it can be very hard to \\nget out of.\\nBut how do you avoid falling into \\na debt trap in the first place?\\nConsider these helpful tips:\\n#1: Be more \\nresponsible with how \\nyou ', 'handle credit. #3: Always pay your \\ncredit card bills and loan \\ninstallments on time.#2: Treat your credit \\ncard like cash.\\nKeep only one or two credit Keep only one or two credit \\ncards at a time and keep track cards at a time and keep track \\nof purchases with these cards. of purchases with these cards. \\nThis way, you’ll know exactly This way, you’ll know exactly \\nwhat you’ve used your credit what you’ve used your credit \\ncard for and the chances of you card for and the chances of you \\nover-spe', 'nding will be lessened. over-spending will be lessened. Use it only if you have the Use it only if you have the \\ncorresponding amount in your corresponding amount in your \\nwallet or savings account. Set that wallet or savings account. Set that \\namount aside once you’ve used amount aside once you’ve used \\nit on a purchase to ensure that it on a purchase to ensure that \\nyou always have the means to pay you always have the means to pay \\nback your credit card bills.back your credit card bills.If you', ' can, pay more than the If you can, pay more than the \\nminimum amount required minimum amount required \\non your loans. This will help on your loans. This will help \\nlessen interest rates and avoid lessen interest rates and avoid \\nadditional charges that make additional charges that make \\nit more difficult to pay back it more difficult to pay back \\nyour loan.your loan.CHAPTER 4: ALL ABOUT CREDIT\\n37WHAT ARE YOUR OPTIONS?\\nWhen selecting a credit option \\nto avail of, it is important to \\nknow the pro', 's and cons of each. \\nAdvantages should always matter. However, it is equally important \\nthat we know our responsibilities \\nand possible liabilities so as to \\nsafeguard our future selves.TYPES OF LOANS INTEREST ADVICE\\nFriend or                \\nfamily memberPROS CONS\\nCredit \\ncooperative\\nSelf-help \\ngroups or \\nsavings groups\\nBank loan\\n5-6Depends on who \\nyou borrow from\\n0–10% per month\\nNo interest\\n9%—27% Annual \\nPercentage Rate \\n(APR)\\n20% per weekDepends on \\nthe term: can \\nbe quick and \\ninexpensive\\nC', 'an be paid \\nin monthly \\ninstallments; \\nhave rebates\\nYou can take \\nhome a large \\namount compared \\nto the small \\ndeposit you make \\neach month\\nCan be paid \\nin monthly \\ninstallments\\nYou will \\nimmediately get \\nthe money you \\nneedBecomes a \\nsource of tension \\namong friends/\\nfamily\\nInterest depends \\non the amount \\nloaned, the kind \\nof loan, and on \\nthe coop itself\\nThe person who \\ntakes home the \\nmonth’s capital \\nwill have less if not \\neveryone pays up\\nNeeds collateral\\nInterest is too large \\ncompared to', ' other \\nloan typesValue trust; pay the \\nagreed amount of \\ninterest promptly\\nMake sure to pay \\ninstallments on time, \\neven if paying your loan \\ntakes a long time, since \\nyou are most likely \\nto interact with other \\nmembers of the coop \\non a daily basis\\nOnly join self-help or \\nsavings groups where \\nthe monthly deposit \\nis not too high\\nEndeavor to pay on \\ntime to avoid having \\nto pay a larger sum in \\ninterest\\nAvoid this type of \\nloan!CHAPTER 4: ALL ABOUT CREDIT\\n37\\nNSTP Financial Literacy Training P', 'rogram Participant’s Workbook, Ateneo de Manila University, 2014CHAPTER 4: ALL ABOUT CREDIT\\n38PROCEED WITH CAUTION!\\nAs you can see, there are a lot \\nof options when it comes to \\nborrowing. Remember that there \\nis no right or wrong way to borrow. \\nWhere you borrow from will \\ndepend on your personal situation \\nand financial needs. However, no matter what type of \\nloan you choose to avail of, you \\nmust always be aware of illegal \\ncollection practices and protect \\nyourself against dishonest\\nmoney le', 'nders.\\nRemember that certain collection practices are prohibited under the Phillippine law8. It would be wise to keep a \\nlookout for these illegal practices in order to protect yourself against unscrupulous lenders:\\nUsing or threatening to \\nuse violence or criminal \\nmeans to harm you, your \\nreputation, your property \\nor your loved onesUsing threats to take \\nillegal actionUsing profane language, \\nobscenities or insults against \\nyou or any other borrowerCommunicating or \\nthreatening to communicate', ' \\nfalse credit information to \\nyou or to any other person\\nUsing deception or lies to \\ncollect a debt or to obtain \\ninformation about you or any \\nother borrowerRequiring you or any other \\nborrower to contact them \\nat unreasonable times \\noutside of  business hours \\n(before 6:00 a.m. or \\nafter 10:00 p.m.)Disclosing the names and \\nother personal information of \\nborrowers who cannot or refuse \\nto pay their debts without the \\nborrower’s permission or with \\npeople who have no business \\nknowing the borr', 'ower’s \\npersonal information\\n8Prohibition on Unfair Debt Collection Practices of Financing Companies and Lending Companies. Securities and \\nExchange Commission. (2019)  http://www.sec.gov.ph/wp-content/uploads/2019/05/2019NoticeMemorandumCircu -\\nlaronUnfairDebtCollection.pdfCHAPTER 4: ALL ABOUT CREDIT\\n39SOME PRACTICAL TIPS BEFORE BORROWING\\nLOAN CALCULATOR\\nTo help you answer these questions, BPI \\nhas several loan calculators that can show \\nyou exactly how much you’ll need to pay \\nper month for th', 'e loan you need. Any \\nof these can even help you fit monthly \\namortizations right into your budget. \\nMoreover, using a loan calculator will help \\nyou figure out if you can afford to take out \\na loan.Now that you know the ins and outs of borrowing, here are some questions to guide you before you \\nactually take out a loan.\\n• Do I need to borrow money? Consider what you are \\nborrowing money for. Will borrowing money put you in a \\nbetter financial situation or a worse one?  \\n \\n• Do I need the money ', 'now? Consider the urgency of \\nyour need. If it’s something that can wait, perhaps you \\ndon’t need to borrow money just yet.  \\n • How much do I need?  Knowing exactly how much you \\nneed can save you a lot of future headaches.  \\n• Can I afford the loan amortization? Being able to \\npay the monthly installment on your loan, or the \\namortization, is key to avoiding debt traps. Go over your \\nexpenses and figure out how you will pay for the loan on \\na month-to-month basis if you do decide to get it.\\n1\\n', '4\\n7\\n02\\n5\\n83/\\n6X\\n9—\\n+\\n=Here are a few links!\\nInteractivity Portion! \\nEach link will bring you \\nto the online resource.https://www.bpipersonalloans.com/loancalculator\\nhttps://www.bpicards.com/Calculators/\\nhttps://cal.bpiautoloans.com/loan-calculator/bpiCHAPTER 4: ALL ABOUT CREDIT\\n40CHAPTER WRAP-UP!\\nIn the end, credit is just one of the tools we can use \\nto achieve financial freedom. But like any tool, we \\nhave to know how to use it well. If we are unwise with \\nhow we handle our credit, we can end ', 'up in a worse \\nfinancial situation than we started in. \\nEvery time you consider taking out a loan or utang, \\nalways remember to ask these questions:\\nIs it a productive activity?Can I afford to pay in full?\\nCan I pay on time?  \\nIf your answer is “yes” to all these questions, \\ncongratulations, you’re ready to take out a loan! All About\\nInvestingCHAPTER 5\\nCorporal Star has always been interested in investing. \\nShe likes the idea of growing her money instantly. As a \\npolice officer with a busy sched', 'ule, she wanted to find \\nan easy way to earn extra money to support herself and \\nher loved ones without taking too much of her time. \\nOne day, while browsing through social media, \\nCorporal Star found an intriguing investment \\nadvertisement that promised a sure way to immediately \\ndouble her money. Tempted by the bold promise, she \\ninvested her extra savings right away. However, just a \\nfew weeks later, she noticed that her investment was \\nnot earning, and that her balance with the company \\nwas ', 'almost negative. She tried contacting the company \\nrepresentative she had spoken to, but to no avail. It was \\nthen that she realized that it was all an investment scam.\\nTo avoid the same fate, Corporal Star advises everyone \\nto be vigilant and to research meticulously \\nbefore investing.  \\n41CASE STUDY: CORPORAL STAR GETS SCAMMED... cannot be reachedCHAPTER 5: ALL ABOUT INVESTING \\n42WHAT IS AN INVESTMENT?\\nWhen people think of investment, they usually think \\nof the stock exchange. But the stock ex', 'change is only a \\nsmall part of the wider topic of investment. Simply put, \\nan investment is an asset or item acquired with the \\ngoal of generating income or appreciation. \\nIn other words, when you invest, you perform an action \\n(usually paying money or capital) in the hopes of raising \\nrevenue in the future.Now that you’ve learned how to \\ngrow your savings, how to secure \\nyourself and your family against \\nemergencies, and how to borrow \\nwisely, it’s now time to learn \\nhow to make your money wor', 'k\\nfor you! \\nWhen people think about \\ninvestment, they usually think \\nabout rich investors who are experts in the ins and outs of a \\nstock exchange floor. But you \\ndon’t have to be a rich investor \\nto find financial success \\nthrough investing.\\nIn fact, investment products \\nnowadays are designed with \\nthe average Filipino in mind. \\nMany banks and businesses offer \\neasy and affordable investment products that allow you to \\nbegin investing. There are even \\nlegitimate mobile applications \\nthat allow ', 'you to invest through \\nyour cell phone. The possibilities \\nwith investing are almost endless. \\nAll you need is a little know-how \\nto begin your journey. CHAPTER 5: ALL ABOUT INVESTING \\n43WHAT IS THE DIFFERENCE BETWEEN \\nSAVING VS. INSURANCE VS. INVESTMENT?\\nIn a previous chapter, we \\ndiscussed savings which is the \\nportion of your income you \\nchoose to set aside for many \\nreasons, including emergencies \\nor large expenses. Savings are \\nusually (but not always) placed \\nin a savings account and may b', 'e \\nwithdrawn at any time. Savings \\nare, essentially, money you \\nalready have that you are \\nkeeping for a rainy day.We’ve also discussed insurance. \\nAn insurance carries with it certain \\nbenefits that an investment \\ndoes not. Insurance policies are \\nusually exempt from estate taxes, \\nspecific to medical coverage, \\nand contain a clear procedure for \\ninheritance in case of unforeseen \\ncircumstances. This is because \\ninsurance policies are meant to \\nbe a means to secure yourself or \\nyour family agai', 'nst emergencies \\nor unforeseeable calamities. On the other hand, investments \\nare more of a means to grow \\nyour money.  Investments are, \\nat heart, profit-making activities \\nwhere you, the investor, part with \\nyour money in the hope that it will \\nmultiply. Think of it like entering \\ninto a business. You enter into a \\nbusiness in order to make your \\ninitial investment (or capital) \\nearn you more money (profits). \\nThe same goes for investments. \\nThe initial money you put into \\nthe investment produ', 'ct is your \\ncapital. Any money you earn from \\nit are your profits. \\nWHAT ARE THE KINDS OF INVESTMENTS?\\nIn general, there are two main types of investments: fixed income and variable income . Fixed income grows at a steady, predictable rate \\nover time. Variable income can gain and lose you money over time.\\nVariable income investments  are investments \\nwhere the growth of your capital can change \\nfrom one period to the next. These are usually \\nriskier investments. However, they have the \\npotential', ' to earn you more money than fixed \\nincome investments. Fixed income investments are investments \\nwhere the money you receive will not change \\nfrom one period to the next. Your money grows \\nat a steady rate over time. These are more safe \\nand predictable investments. However, they \\nusually earn you less money than variable \\nincome investments.CHAPTER 5: ALL ABOUT INVESTING \\n44There is no “better investment” between \\nfixed or variable income. Which to invest in \\nall depends on your goals and risk', ' profile.Given these definitions, which \\nkind of investment would you \\nprefer? Why? \\nAsk a friend or the person \\nseated beside you which type of \\ninvestment they prefer and why. \\nDo you have the same answer or a \\ndifferent answer?\\nChances are, your answer will \\nbe unique to you. Between fixed \\nincome and variable income \\ninvestments, there is no “better” \\ninvestment. Which investment \\nto take depends on your risk \\nappetite or profile. Some people \\nwould rather take the risk of \\na variable income', ' if it means getting a higher payout at the \\nend of the day. They are known \\nas aggressive investors. Others \\nprefer the safety of a fixed income \\ninvestment even if it means \\ngetting a lower payout compared \\nto a variable income investment. \\nThese are conservative investors. \\nAgain, it all depends on what\\nyou prefer.\\nLet’s use an example. The \\nsimplest kind of fixed income \\ninvestment is the time deposit. \\nThe graph below will show you \\nthat in this kind of investment,\\nthe money you initially p', 'ut in \\nmight not even have doubled \\nafter 30 years!PESOSFixed Income - Time Deposit\\nTime Deposit, 2% per year\\nNUMBER OF YEARS\\nAfter 30 years, your money doesn’t even double. However, you won’t experience any losses either. 20,00040,00060,00080,000100,000120,000140,000160,000180,000200,000\\n0\\n1 2 3 4 5 6 7 8 910 11 12 13 14 15 16 17 18 19 20 21 22 23 24 25 26 27 28 29 30CHAPTER 5: ALL ABOUT INVESTING \\n45On the other hand, the graph \\nbelow shows the growth of your \\ninvestment if you put it in a \\nva', 'riable income investment like \\nstocks. If you started investing \\nin 2006 in a pool of stocks that \\ninclude stocks from PLDT , Globe, \\nand Ayala Land for example, your \\ninvestment would have more than tripled in those 30 years. However, \\nthat growth isn’t consistent. There \\nwill be times when the value of \\nyour stocks will dip below the \\nvalue of the amount you originally \\ninvested. In this example, your \\nstocks lost value in 2008–2009.\\nVariable Income - Stocks\\nYEARS\\nInvesting in stocks is a wait', 'ing game. You may experience gains and losses over time but if you invest long \\nenough, your money still increases.2,0004,0006,0008,000\\n0\\n1992 2010 1998 2004 2016\\nThat is the nature of risk in \\ninvestment—while there can be \\nan opportunity to gain more, \\na chance also exists that you \\ncan lose more. There are many \\nfactors that affect a stock’s value. \\nChange of company ownership, \\npublic opinion of the company, government regulation, and the \\noverall trade market are just \\nsome of the factors t', 'hat can affect \\nwhether or not a stock does well \\nin the market. Again, it’s all risk. \\nAnd it’s entirely up to you whether \\nthat risk is worth it or not.PHILIPPINE STOCK MARKET (PSEI)\\nCAUTION!STOCK VALUE IN PESOSCHAPTER 5: ALL ABOUT INVESTING \\n46WHAT ARE THE OTHER FACTORS THAT AFFECT INVESTMENT?\\nINFLATION Inflation is another common reason for Inflation is another common reason for \\ninvestments to fluctuate in value. Inflation investments to fluctuate in value. Inflation \\nis the rate at which t', 'he general level of is the rate at which the general level of \\nprices for goods and services is rising and, prices for goods and services is rising and, \\nconsequently, the purchasing power of consequently, the purchasing power of \\ncurrency is falling. In other words, it is a currency is falling. In other words, it is a \\ngeneral increase in prices combined with a general increase in prices combined with a \\nfall in the purchasing value of your money.fall in the purchasing value of your money.\\nCent', 'ral banks, such as our Bangko Sentral, Central banks, such as our Bangko Sentral, \\nattempt to limit inflation—and avoid attempt to limit inflation—and avoid \\ndeflation—in order to keep the economy deflation—in order to keep the economy \\nrunning smoothly. However, inflation is running smoothly. However, inflation is \\na natural consequence of our financial a natural consequence of our financial \\nsystems and will inevitably happen from systems and will inevitably happen from \\ntime to time.time to t', 'ime.Without us knowing it, regular inflation is Without us knowing it, regular inflation is \\nslowly decreasing the value of our savings slowly decreasing the value of our savings \\nand our money. This means that today, and our money. This means that today, \\nthe value of our money, and its purchasing the value of our money, and its purchasing \\npower, is no longer the same as it was five power, is no longer the same as it was five \\nto ten years ago. Without doing anything, to ten years ago. Without', ' doing anything, \\nwe are slowly losing money. we are slowly losing money. \\nBut don’t panic! This is why it is important But don’t panic! This is why it is important \\nfor us to start investing. Investments can for us to start investing. Investments can \\nhelp make sure that our money grows and help make sure that our money grows and \\npossibly earn more than the inflation rate. possibly earn more than the inflation rate. \\nThis is also among the reasons why we, as This is also among the reasons why ', 'we, as \\nwise investors, need to prudently invest wise investors, need to prudently invest \\nand put our extra savings into different and put our extra savings into different \\ninvestment instruments.investment instruments.\\nINVESTMENT\\nHORIZONThe following table shows us the investment story of three college friends: Anna, Benjie, and The following table shows us the investment story of three college friends: Anna, Benjie, and \\nCharlie. Anna began investing at 20 years old, right out of college. Ben', 'jie started investing at Charlie. Anna began investing at 20 years old, right out of college. Benjie started investing at \\n30, right when his career was really beginning to take off. Charlie started investing at 40, right 30, right when his career was really beginning to take off. Charlie started investing at 40, right \\nwhen his children entered college. All three friends are of the same age and invested in the when his children entered college. All three friends are of the same age and invested', ' in the \\nsame investment plan. The only difference is when they invested.same investment plan. The only difference is when they invested.\\nThis table shows us the earning potential This table shows us the earning potential \\nof 3 different persons—aged 20, 30 and 40 of 3 different persons—aged 20, 30 and 40 \\n—who invest the same amount of money —who invest the same amount of money \\nin a financial product bearing a steady in a financial product bearing a steady \\ninterest rate of 2% (perhaps a time ', 'deposit interest rate of 2% (perhaps a time deposit \\naccount), and who leave the money account), and who leave the money \\nuntouched until they turn 60 years old. untouched until they turn 60 years old. \\nAs you can see, Anna, who invested the As you can see, Anna, who invested the \\nearliest, earned the most among the three earliest, earned the most among the three \\nfriends. Benjie, earned less than Anna friends. Benjie, earned less than Anna \\nbut still earned more than Charlie, who but still earn', 'ed more than Charlie, who \\ninvested the latest. Charlie, though he invested the latest. Charlie, though he invested late, still got a good return for his invested late, still got a good return for his \\ninvestment, though not as much as his investment, though not as much as his \\nother friends. other friends. \\nThis just shows thatThis just shows that   the earlier you the earlier you \\ninvest, the more interest your invest, the more interest your \\ninvestment will earn over time and the investment w', 'ill earn over time and the \\nhigher your investment will be.higher your investment will be.   The The \\nlonger your time horizon to invest—40 longer your time horizon to invest—40 \\nyears for the 20-year-old, 30 years for the years for the 20-year-old, 30 years for the \\n30-year-old and 20 years for the 40-year-30-year-old and 20 years for the 40-year-\\nold—the more you can earn through the old—the more you can earn through the \\nsheer power of compounding interest.sheer power of compounding interest.', 'ANNA BENJIE CHARLIE\\nPrincipal Protected Investments \\nper month\\nReturn on Investment \\nCurrent Age\\nRetirement Age\\nTime Horizon\\nInvestment Earnings \\nRisk Profile Aggressive Moderate ConservativePhp 5,000.00 Php 5,000.00 Php 5,000.00\\n2% 2% 2%\\n20 y/o 30 y/o 40 y/o\\n60 y/o 60 y/o 60 y/o\\n40 years 30 years 20 years\\nPhp 3,624,119.00 Php 2,434,085.00 Php 1,457,842.00CHAPTER 5: ALL ABOUT INVESTING \\nRISK \\nAPPETITE AND \\nINVESTMENT \\nPERSONALITYWhen you invest is entirely up to you. When you invest is entirely ', 'up to you. \\nGo back to the previous table and take Go back to the previous table and take \\nnote of the last row. Each person is note of the last row. Each person is \\ngiven a different risk profile: aggressive, given a different risk profile: aggressive, \\nmoderate, or conservative. moderate, or conservative. \\nKnowing your risk profile is an Knowing your risk profile is an \\nimportant consideration before you important consideration before you \\ncan begin investing.can begin investing.   Factors aff', 'ecting Factors affecting \\nyour risk appetite can include: your your risk appetite can include: your \\nage, steady income sources, number of age, steady income sources, number of \\ndependents, desired lifestyle, knowledge dependents, desired lifestyle, knowledge \\non investment products, financial on investment products, financial \\nliteracy, etc. If you are young and only literacy, etc. If you are young and only \\nearning to support yourself, you might earning to support yourself, you might \\nhave a m', 'ore aggressive profile. If you have a more aggressive profile. If you \\nare earning to support others, you might are earning to support others, you might \\nhave a more conservative profile. have a more conservative profile. What factors will affect your profile What factors will affect your profile \\nand the way you invest? Do you have and the way you invest? Do you have \\nchildren? Does your job pay regularly? children? Does your job pay regularly? \\nAre you comfortable with the idea of Are you comf', 'ortable with the idea of \\nlosing a little money? What are your goals losing a little money? What are your goals \\nin investing? in investing? \\nIt is important for us to know our risk It is important for us to know our risk \\nappetite so that we know what type of appetite so that we know what type of \\ninvestment we can put our money in. investment we can put our money in. \\nNowadays, knowing your risk profile is Nowadays, knowing your risk profile is \\nsimply a matter of answering questions simply a ', 'matter of answering questions \\non an online test. on an online test. \\nFor now, let’s do a short activity to give For now, let’s do a short activity to give \\nyou an idea of what type of investment you an idea of what type of investment \\nfits your personality. fits your personality. \\n47LOW RISK \\nHIGH INCOMEExcercise 5.1: Risk Appetite (Risk vs. Return)\\nChoose between the following and click on what you want out of an investment. \\nHIGH RISK \\nLOW INCOMEHIGH RISK \\nHIGH INCOMELOW RISK \\nLOW INCOME\\nInte', 'ractivity Portion! \\nButtons will reveal your \\nanswer on the next page!CHAPTER 5: ALL ABOUT INVESTING \\nTo know what type of investment personality you have, choose which statement \\nyou agree with the most:RISK \\nAPPETITE AND \\nINVESTMENT \\nPERSONALITY\\n48I am fine with a little \\nvolatility, I am not afraid \\nof loss in the short t ermI see volatility and market \\ndecline as opportunitiesYou are the MODERATELY\\nCONSERVATIVE TYPE.\\nYou may consider\\ninvesting in bond funds.\\nYou are the MODERATELY \\nAGGRESSIV', 'E TYPE.\\nYou may consider \\ninvesting in \\nbalanced funds.You are the\\nAGGRESSIVE TYPE.\\nYou may consider \\ninvesting in equity funds.I want peace of mind, \\nI prioritize safety, I am \\nfine with low returns\\nYou are the \\nCONSERVATIVE TYPE.\\nYou may consider \\ninvesting in money \\nmarket funds.LOW RISK \\nHIGH INCOME\\nBEWARE! STUDY VERY CAFEFULLYExcercise 5.1: Risk Appetite (Risk vs. Return)\\nHIGH RISK \\nLOW INCOMEHIGH RISK \\nHIGH INCOMELOW RISK \\nLOW INCOME\\nFIXED INCOME INVESTMENTS\\nWhich did you pick? It is natur', 'al for us to aim for a high income with no risk. But beware! \\nThere is no such thing as a risk-free investment. People who claim their investment carries \\nno risk are most likely scamming you. VARIABLE INCOME INVESTMENTS WHY INVEST IN THESE?\\nI want a higher income but \\nI decide slowly but surelyCHAPTER 5: ALL ABOUT INVESTING \\n49HOW TO START INVESTING?\\nMake sure you have \\nenough savings!STEP 1 STEP 2STEP 3\\nKnow your investment \\npersonality.Research legitimate \\ninvestment products.\\nGo to your trus', 'ted bank \\nor investment company \\nto inquire.STEP 4 STEP 5 STEP 6\\nOpen an account and pay \\nthe required minimum \\nmaintaining balance.Closely coordinate \\nwith your investment \\ncounselor or fund manager \\nfor updates on your \\ninvestment.CHAPTER 5: ALL ABOUT INVESTING \\n50There are many kinds of investment frauds and \\nscams. The two most common are  the Ponzi \\nscheme and the pyramid scheme. IDENTIFYING AND \\nAVOIDING FINANCIAL \\nFRAUD AND SCAMS\\nA Ponzi scheme  is a scam \\nthat relies on the investments \\n', 'made by new investors to pay \\nearlier investors, making these \\npayments look like returns or \\nprofits from product sales. Ponzi \\nscammers promise high rates \\nof return with very little risk. \\nDon’t be fooled! Those returns \\nonly come from payments made \\nby newer investors like you. \\nThis means that you will only \\nsee a sizable return for your \\ninvestment if the scheme is able to recruit more people \\nafter you.  This is a very unstable \\nsystem and is likely to collapse \\nbefore you ever see the ea', 'rnings \\npromised to you.\\nSimilar to the Ponzi scheme, \\na pyramid scheme  relies on \\npayments made by newer \\n“recruits” to pay older investors. \\nThis fact is usually hidden \\nbehind a “product” that \\nmembers must sell. But beware: This product is \\nusually worthless or difficult \\nto sell . \\nIn a pyramid scheme, your \\nreturns depend largely on how \\nmany people you are able to \\nrecruit into the scheme and how \\nmany people your recruits are, \\nin turn, able to recruit. Like the \\nPonzi scheme, this busi', 'ness is \\nvery unstable and is likely to fail \\nbefore you ever see returns on \\nyour investment.  Ponzi and pyramid schemes use money you pay as a new investor to pay earlier investors their “returns.” Models \\nlike this only benefit initial investors (who may also be involved in the scam) and will always collapse, leaving you \\nwithout any profit on your initial investment.CHAPTER 5: ALL ABOUT INVESTING \\n51To avoid Ponzi or pyramid schemes, consider the following questions before investing: \\nRememb', 'er that no legitimate businesses or investments \\nhave new recruits/investors as their main source of \\nfunds. If you find yourself in a situation where you are \\nbeing made to invest in such a business, don’t pursue it. \\nYou are most likely getting scammed.If the answer to any of these questions \\nis YES , you might be entering a \\npyramid scheme. Does the business you are investing in focus \\non recruitments or cash investments?\\nDoes it market products with little or no \\nreal value?\\nDoes it promise ', 'high interest or returns on \\ninvestment within a short period of time?\\nAre members compensated based on \\nnew recruits and downlines?Interactivity Portion! \\nClick on the checkboxes \\nthat apply to your \\nsituation!CHAPTER 5: ALL ABOUT INVESTING \\n52Here are some tips to avoid financial scams and frauds:\\n#1: Consider how \\nthe business you are \\ninvesting into makes \\nmoney.#2: Examine the \\npromise they are \\nmaking.#3: Do a quick Google \\nsearch.\\nDoes the business focus on Does the business focus on \\nrec', 'ruitments or cash investments? recruitments or cash investments? \\nDoes it market products with Does it market products with \\nlittle or no real value? If so, little or no real value? If so, \\nthe investment is probably a the investment is probably a \\nscam. A business that focuses scam. A business that focuses \\non recruitment fees, cash on recruitment fees, cash \\ninvestments, or a useless product investments, or a useless product \\nis more likely to rely on your initial is more likely to rely on you', 'r initial \\ninvestment to keep their company investment to keep their company \\ngoing. Companies like this never going. Companies like this never \\nlast long and are bound to last long and are bound to \\ncollapse, taking your hard-earned collapse, taking your hard-earned \\nmoney with them.money with them.Do they promise high returns Do they promise high returns \\nwithin a short period of time? within a short period of time? \\nIf they are, this is also most If they are, this is also most \\nlikely a scam.', ' Remember that if likely a scam. Remember that if \\nsomething seems too good to be something seems too good to be \\ntrue, it probably is. Scammers use true, it probably is. Scammers use \\nflashy and tempting promises in flashy and tempting promises in \\norder to lure people who don’t order to lure people who don’t \\nknow any better. Do not be fooled. know any better. Do not be fooled. \\nVerify the company’s registration Verify the company’s registration \\nin Securities and Exchange in Securities and Ex', 'change \\nCommission (SEC) and ask for its Commission (SEC) and ask for its \\ninvestment license.investment license.Searching the company’s name Searching the company’s name \\nwith the word “scam”may help with the word “scam”may help \\nyou determine if the company is you determine if the company is \\nknown for scamming their investors. known for scamming their investors. \\nRemember the saying “if there’s Remember the saying “if there’s \\nsmoke, there’s fire.” If you find a smoke, there’s fire.” If you f', 'ind a \\nlot of search results saying that the lot of search results saying that the \\ncompany you are about to invest company you are about to invest \\nin are scammers, it may be best to in are scammers, it may be best to \\ntake your money elsewhere. Report take your money elsewhere. Report \\nsuspicious investment companies suspicious investment companies \\nto SEC.to SEC.\\nBecause of ease and convenience, \\na lot of bank transactions \\nnowadays happen online. But the \\nonline space comes with its own \\nuni', 'que set of dangers—dangers \\nthat you must be familiar with \\nin order to protect your hard-\\nearned money. Common forms \\nof online scamming involve \\nscammers pretending to be your bank in order to obtain private \\ninformation from you (like your \\npassword or answers to your \\nsecurity tests). This can be done \\nover the phone or through email. \\nIt is important that you familiarize \\nyourself with your bank’s security \\nprotocols and learn how to spot \\nscammers posing as your bank.CHAPTER 5: ALL ABOUT I', 'NVESTING\\n53CHAPTER WRAP-UP!\\nASK!\\nInvesting can be exciting. \\nThis is where you can actually \\nmake your money work for you \\nand reap large benefits later. \\nHowever, be sure to only invest \\nin products and with businesses \\nyou fully understand. Do your \\nresearch. Ask any and all \\nquestions you can think of,\\neven if you feel dumb asking \\nthem. Remember that you \\nare possibly risking your \\nhard-earned cash. Legitimate \\ninvestment businesses \\nunderstand that people have\\nto be cautious about their \\nmo', 'ney and will gladly answer \\nyour questions. BE CURIOUS!\\nIt will also be wise to do your \\nown investigation. Check out \\n(legitimate!) internet sources \\non the type of investment you \\nare interested in. Ask a friend or \\nfamily member you trust who \\nis knowledgeable about the \\ntopic. Familiarize yourself with \\ninvestment terms and lingo so \\nthat you won’t be overwhelmed \\nor confused once you’re deep \\ninto considering where and \\nwith whom to invest. Ask banks \\nand reputable investment \\ncompanies for', ' brochures on \\ntheir investment products. BE WISE!\\nLastly, invest only the money you \\nare prepared to lose. At the end \\nof the day, there is no guarantee \\nthat you will see the returns on \\nyour investment. That is the \\nreality that all investors deal \\nwith. Don’t let the promise of \\nlarge earnings distract you from \\nthis fact. If this is money you will \\nneed in the foreseeable future, \\nput it in a savings account.\\nAlso, be cautious of scammers \\nwho want to take your hard-\\nearned money. When inve', 'sting or thinking about investing, always \\nremember three things: ask, be curious, and be wise.54You’ve successfully completed \\nthe financial wellness workshop. \\nCongratulations!  You now have \\nall of the tools you need to build a \\nbetter financial future for yourself \\nand your loved ones.\\nIf you’d like, you can go back to the \\nPre-assessment questionnaire  \\nyou filled up before the beginning \\nof this workshop and review your \\nanswers. Are they still true? \\nAre you still worried about the \\nsame ', 'things?Now would also be a good time \\nto reflect on the new things that \\nyou’ve learned and what you are \\nmost excited to start applying to \\nyour life. Is it the new formula for \\nsaving? Perhaps you’re thinking \\nabout getting a pre-need insurance \\nplan? Maybe you’re strategizing \\nhow you can finally get yourself \\nout of your debt trap or are now \\nrealizing how many investment \\nscams you come across online.Whatever has changed, you’ve \\ngrown a lot while learning about \\nyour own financial wellness', '. \\nWe hope you continue applying \\nthe lessons you’ve learned in \\nthis workshop. The future is \\nyours! Take it and use your new \\nlearnings for yourself and for \\nthe people you love. Today is \\nthe best time to prepare for \\ntomorrow. By developing these \\nfinancial management skills \\nand instilling a mindset for \\nfinancial responsibility, \\nwe can all contribute to a \\nbetter Philippines.Let’s start unboxing \\nour financial wellness \\njourney now!\\nInteractivity Portion! \\nClickable and returns you to the', ' \\nPre-assessment questionaire.']\n"
          ]
        }
      ]
    },
    {
      "cell_type": "code",
      "source": [
        "embeddings = [get_embedding(chunk, engine = \"text-embedding-3-small\") for chunk in chunks]"
      ],
      "metadata": {
        "id": "Wckuz20d7_M7"
      },
      "execution_count": 14,
      "outputs": []
    },
    {
      "cell_type": "code",
      "source": [
        "embedding_dim = len(embeddings[0])"
      ],
      "metadata": {
        "id": "kxrSxRzq8MX7"
      },
      "execution_count": 15,
      "outputs": []
    },
    {
      "cell_type": "code",
      "source": [
        "embeddings_np = np.array(embeddings).astype('float32')"
      ],
      "metadata": {
        "id": "xNX-g3O18M6K"
      },
      "execution_count": 16,
      "outputs": []
    },
    {
      "cell_type": "code",
      "source": [
        "index = faiss.IndexFlatL2(embedding_dim)"
      ],
      "metadata": {
        "id": "cgWMLVM08hRM"
      },
      "execution_count": 17,
      "outputs": []
    },
    {
      "cell_type": "code",
      "source": [
        "index.add(embeddings_np)"
      ],
      "metadata": {
        "id": "a3SAWcnq8lbX"
      },
      "execution_count": 18,
      "outputs": []
    },
    {
      "cell_type": "code",
      "source": [
        "user_message = \"What are the common misconceptions of saving?\""
      ],
      "metadata": {
        "id": "VLGiJHvf8uax"
      },
      "execution_count": 19,
      "outputs": []
    },
    {
      "cell_type": "code",
      "source": [
        "query_embedding = get_embedding(user_message, engine = \"text-embedding-3-small\")\n",
        "query_embedding_np = np.array([query_embedding]).astype('float32')"
      ],
      "metadata": {
        "id": "aMW90rVY82Qt"
      },
      "execution_count": 20,
      "outputs": []
    },
    {
      "cell_type": "code",
      "source": [
        "_, indices = index.search(query_embedding_np, 1)"
      ],
      "metadata": {
        "id": "6qWxGgz_9Jvq"
      },
      "execution_count": 22,
      "outputs": []
    },
    {
      "cell_type": "code",
      "source": [
        "retrieved_docs = [chunks[i] for i in indices[0]]"
      ],
      "metadata": {
        "id": "YvCC5Ym09UR_"
      },
      "execution_count": 23,
      "outputs": []
    },
    {
      "cell_type": "code",
      "source": [
        "context = ' '.join(retrieved_docs)"
      ],
      "metadata": {
        "id": "nCuhXvqO9kYb"
      },
      "execution_count": 24,
      "outputs": []
    },
    {
      "cell_type": "code",
      "source": [
        "structured_prompt = f\"Context:\\n{context}\\n\\nQuery:\\n{user_message}\\n\\nResponse:\""
      ],
      "metadata": {
        "id": "qvStnPk59nXf"
      },
      "execution_count": 25,
      "outputs": []
    },
    {
      "cell_type": "code",
      "source": [
        "struct = [{\"role\": \"system\", \"content\": \"You are a helpful Assistant\"}]"
      ],
      "metadata": {
        "id": "6kJhI98h9qyE"
      },
      "execution_count": 26,
      "outputs": []
    },
    {
      "cell_type": "code",
      "source": [
        "chat =  openai.ChatCompletion.create(model = \"gpt-4o-mini\", messages = struct + [{\"role\": \"user\", \"content\" : structured_prompt}], temperature=0.5, max_tokens=1500, top_p=1, frequency_penalty=0, presence_penalty=0)\n",
        "struct.append({\"role\": \"user\", \"content\": user_message})\n",
        "response = chat.choices[0].message.content\n",
        "struct.append({\"role\": \"assistant\", \"content\": response})"
      ],
      "metadata": {
        "id": "pt5Esj_I9vcm"
      },
      "execution_count": 27,
      "outputs": []
    },
    {
      "cell_type": "code",
      "source": [
        "print(response)"
      ],
      "metadata": {
        "colab": {
          "base_uri": "https://localhost:8080/"
        },
        "id": "BU9Uj3149ygS",
        "outputId": "68e2a6e0-9246-42bd-dff2-44302b028629"
      },
      "execution_count": 28,
      "outputs": [
        {
          "output_type": "stream",
          "name": "stdout",
          "text": [
            "Common misconceptions about saving include:\n",
            "\n",
            "1. **Low Interest Rates Make Savings Accounts Useless**: Many people believe that because savings accounts typically offer low interest rates, saving in banks is not worthwhile. However, the primary purpose of a savings account is to keep your money secure and easily accessible, rather than to generate significant growth.\n",
            "\n",
            "2. **You Need a Large Amount to Start Saving**: Some individuals think they need a substantial amount of money to begin saving. In reality, starting with small amounts can still lead to significant savings over time, especially with consistent contributions.\n",
            "\n",
            "3. **Saving is Only for the Wealthy**: There is a misconception that saving is only for those who already have money. In truth, anyone can save, regardless of income level, and it’s important to develop a saving habit early on.\n",
            "\n",
            "4. **You Should Only Save After Paying Off Debt**: While paying off high-interest debt is important, it’s also crucial to save simultaneously. Having a small emergency fund can prevent you from going further into debt when unexpected expenses arise.\n",
            "\n",
            "5. **Saving is a One-Time Action**: Some people think saving is a one-time effort, like making a large deposit. However, saving is an ongoing process that involves regular contributions, no matter how small.\n",
            "\n",
            "6. **You Can Only Save for Big Goals**: Many believe that saving is only for major life events, such as buying a house or retirement. In reality, saving can be for short-term goals as well, such as vacations or emergency funds.\n",
            "\n",
            "7. **Investing is Better Than Saving**: While investing can potentially offer higher returns, it also comes with risk. Saving provides security and liquidity, which can be essential for financial stability.\n",
            "\n",
            "8. **You Must Have a Budget to Save**: While budgeting can help manage finances, it is not a strict requirement to start saving. Even without a formal budget, setting aside a portion of income regularly can lead to savings.\n",
            "\n",
            "By understanding and addressing these misconceptions, individuals can cultivate healthier saving habits and work towards their financial goals more effectively.\n"
          ]
        }
      ]
    }
  ]
}